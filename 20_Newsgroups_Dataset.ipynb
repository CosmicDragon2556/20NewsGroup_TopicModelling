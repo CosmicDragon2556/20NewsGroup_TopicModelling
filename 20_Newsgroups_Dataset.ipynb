{
  "nbformat": 4,
  "nbformat_minor": 0,
  "metadata": {
    "colab": {
      "provenance": []
    },
    "kernelspec": {
      "name": "python3",
      "display_name": "Python 3"
    },
    "language_info": {
      "name": "python"
    }
  },
  "cells": [
    {
      "cell_type": "code",
      "source": [
        "from sklearn.datasets import fetch_20newsgroups\n",
        "from sklearn.feature_extraction.text import TfidfVectorizer, CountVectorizer\n",
        "\n",
        "# Load dataset (remove metadata for cleaner data)\n",
        "newsgroups = fetch_20newsgroups(subset='all', remove=('headers', 'footers', 'quotes'))\n",
        "documents = newsgroups.data\n",
        "\n"
      ],
      "metadata": {
        "id": "TE5Hbn0WaGbZ"
      },
      "execution_count": 31,
      "outputs": []
    },
    {
      "cell_type": "code",
      "source": [
        "# Preprocess text (TF-IDF vectorization)\n",
        "tfidf_vectorizer = TfidfVectorizer(max_df=0.95, min_df=2, stop_words='english')\n",
        "tfidf = tfidf_vectorizer.fit_transform(documents)\n",
        "\n",
        "# For count-based methods (LDA)\n",
        "count_vectorizer = CountVectorizer(max_df=0.95, min_df=2, stop_words='english')\n",
        "count = count_vectorizer.fit_transform(documents)"
      ],
      "metadata": {
        "id": "wupjyhdZaG--"
      },
      "execution_count": 32,
      "outputs": []
    },
    {
      "cell_type": "markdown",
      "source": [
        "1. Basic Techniques"
      ],
      "metadata": {
        "id": "yHSF_z0KaOoG"
      }
    },
    {
      "cell_type": "code",
      "source": [
        "from sklearn.decomposition import LatentDirichletAllocation\n",
        "\n",
        "# Train LDA\n",
        "lda = LatentDirichletAllocation(\n",
        "    n_components=10,  # Number of topics\n",
        "    learning_method='online',\n",
        "    random_state=42\n",
        ")\n",
        "lda.fit(count)\n",
        "\n",
        "# Display topics\n",
        "def print_topics(model, feature_names, n_top_words=10):\n",
        "    for topic_idx, topic in enumerate(model.components_):\n",
        "        print(f\"Topic {topic_idx}:\")\n",
        "        print(\" \".join([feature_names[i] for i in topic.argsort()[:-n_top_words - 1:-1]]))\n",
        "\n",
        "print_topics(lda, count_vectorizer.get_feature_names_out())"
      ],
      "metadata": {
        "colab": {
          "base_uri": "https://localhost:8080/"
        },
        "id": "kP8evF_KaMPp",
        "outputId": "e7165085-37de-4594-8d31-4975f52e0956"
      },
      "execution_count": 33,
      "outputs": [
        {
          "output_type": "stream",
          "name": "stdout",
          "text": [
            "Topic 0:\n",
            "god people say believe does jesus think don know evidence\n",
            "Topic 1:\n",
            "like just don know use good time ve does way\n",
            "Topic 2:\n",
            "00 edu com 1993 space ca 04 university cs 10\n",
            "Topic 3:\n",
            "game team year games play season hockey players league win\n",
            "Topic 4:\n",
            "file edu program image available files ftp use data window\n",
            "Topic 5:\n",
            "10 25 12 20 15 11 14 16 13 17\n",
            "Topic 6:\n",
            "armenian israel armenians people war jews turkish said israeli killed\n",
            "Topic 7:\n",
            "ax max b8f g9v a86 pl 145 1d9 0t 1t\n",
            "Topic 8:\n",
            "dos drive windows card disk scsi mac pc ms thanks\n",
            "Topic 9:\n",
            "people think government don right said time going did law\n"
          ]
        }
      ]
    },
    {
      "cell_type": "markdown",
      "source": [
        "2. Non- negative matrix Factorization"
      ],
      "metadata": {
        "id": "yyeNfnHSaTyZ"
      }
    },
    {
      "cell_type": "code",
      "source": [
        "from sklearn.decomposition import NMF\n",
        "\n",
        "nmf = NMF(n_components=10, random_state=42)\n",
        "nmf.fit(tfidf)\n",
        "\n",
        "print_topics(nmf, tfidf_vectorizer.get_feature_names_out())"
      ],
      "metadata": {
        "colab": {
          "base_uri": "https://localhost:8080/"
        },
        "id": "TbMZWxY8aQrP",
        "outputId": "56e4462d-abd6-4b31-ae6e-78b21997303c"
      },
      "execution_count": 34,
      "outputs": [
        {
          "output_type": "stream",
          "name": "stdout",
          "text": [
            "Topic 0:\n",
            "don just like think know good ve time really want\n",
            "Topic 1:\n",
            "windows dos file program files window use using run running\n",
            "Topic 2:\n",
            "god jesus bible believe christ faith christian christians sin church\n",
            "Topic 3:\n",
            "drive scsi ide disk card controller hard drives bus floppy\n",
            "Topic 4:\n",
            "key chip encryption clipper keys government escrow use algorithm phone\n",
            "Topic 5:\n",
            "thanks does know mail advance hi info looking information help\n",
            "Topic 6:\n",
            "00 new 10 sale car price 50 20 shipping offer\n",
            "Topic 7:\n",
            "game games team year hockey baseball season players play espn\n",
            "Topic 8:\n",
            "edu geb dsl cadre n3jxp chastity pitt skepticism intellect shameful\n",
            "Topic 9:\n",
            "people government israel armenian jews armenians gun state did children\n"
          ]
        }
      ]
    },
    {
      "cell_type": "markdown",
      "source": [
        "3.1 Hierarchical Dirichlet Process (HDP)\n"
      ],
      "metadata": {
        "id": "kAqtGwr6acoh"
      }
    },
    {
      "cell_type": "code",
      "source": [
        "from gensim.models import HdpModel\n",
        "from gensim.corpora import Dictionary\n",
        "from gensim.utils import simple_preprocess\n",
        "\n",
        "# Preprocess for Gensim\n",
        "texts = [simple_preprocess(doc, deacc=True) for doc in documents]\n",
        "dictionary = Dictionary(texts)\n",
        "dictionary.filter_extremes(no_below=2, no_above=0.95)  # Filter extremes\n",
        "corpus = [dictionary.doc2bow(text) for text in texts]\n",
        "\n",
        "# Train HDP\n",
        "hdp = HdpModel(corpus=corpus, id2word=dictionary)\n",
        "\n",
        "# Show topics\n",
        "hdp.print_topics()"
      ],
      "metadata": {
        "colab": {
          "base_uri": "https://localhost:8080/"
        },
        "id": "nJLiodc0aX--",
        "outputId": "e9f1396d-8c8d-4a0a-835e-1d3a385b7613"
      },
      "execution_count": 35,
      "outputs": [
        {
          "output_type": "stream",
          "name": "stderr",
          "text": [
            "WARNING:gensim.models.hdpmodel:likelihood is decreasing!\n",
            "WARNING:gensim.models.hdpmodel:likelihood is decreasing!\n",
            "WARNING:gensim.models.hdpmodel:likelihood is decreasing!\n",
            "WARNING:gensim.models.hdpmodel:likelihood is decreasing!\n",
            "WARNING:gensim.models.hdpmodel:likelihood is decreasing!\n",
            "WARNING:gensim.models.hdpmodel:likelihood is decreasing!\n",
            "WARNING:gensim.models.hdpmodel:likelihood is decreasing!\n",
            "WARNING:gensim.models.hdpmodel:likelihood is decreasing!\n",
            "WARNING:gensim.models.hdpmodel:likelihood is decreasing!\n",
            "WARNING:gensim.models.hdpmodel:likelihood is decreasing!\n",
            "WARNING:gensim.models.hdpmodel:likelihood is decreasing!\n",
            "WARNING:gensim.models.hdpmodel:likelihood is decreasing!\n",
            "WARNING:gensim.models.hdpmodel:likelihood is decreasing!\n",
            "WARNING:gensim.models.hdpmodel:likelihood is decreasing!\n",
            "WARNING:gensim.models.hdpmodel:likelihood is decreasing!\n",
            "WARNING:gensim.models.hdpmodel:likelihood is decreasing!\n",
            "WARNING:gensim.models.hdpmodel:likelihood is decreasing!\n",
            "WARNING:gensim.models.hdpmodel:likelihood is decreasing!\n",
            "WARNING:gensim.models.hdpmodel:likelihood is decreasing!\n",
            "WARNING:gensim.models.hdpmodel:likelihood is decreasing!\n",
            "WARNING:gensim.models.hdpmodel:likelihood is decreasing!\n",
            "WARNING:gensim.models.hdpmodel:likelihood is decreasing!\n",
            "WARNING:gensim.models.hdpmodel:likelihood is decreasing!\n",
            "WARNING:gensim.models.hdpmodel:likelihood is decreasing!\n",
            "WARNING:gensim.models.hdpmodel:likelihood is decreasing!\n",
            "WARNING:gensim.models.hdpmodel:likelihood is decreasing!\n",
            "WARNING:gensim.models.hdpmodel:likelihood is decreasing!\n",
            "WARNING:gensim.models.hdpmodel:likelihood is decreasing!\n"
          ]
        },
        {
          "output_type": "execute_result",
          "data": {
            "text/plain": [
              "[(0,\n",
              "  '0.054*the + 0.027*to + 0.024*of + 0.022*and + 0.021*ax + 0.016*in + 0.015*is + 0.014*that + 0.012*it + 0.010*for'),\n",
              " (1,\n",
              "  '0.049*the + 0.026*to + 0.019*of + 0.018*and + 0.014*is + 0.014*it + 0.014*in + 0.013*that + 0.011*you + 0.010*for'),\n",
              " (2,\n",
              "  '0.043*the + 0.021*to + 0.018*of + 0.016*and + 0.013*in + 0.013*is + 0.012*that + 0.011*it + 0.008*for + 0.007*this'),\n",
              " (3,\n",
              "  '0.032*the + 0.014*to + 0.013*of + 0.012*and + 0.011*in + 0.008*is + 0.007*it + 0.006*at + 0.006*for + 0.006*that'),\n",
              " (4,\n",
              "  '0.029*the + 0.022*of + 0.013*and + 0.011*to + 0.010*in + 0.006*by + 0.005*is + 0.005*that + 0.004*istanbul + 0.004*st'),\n",
              " (5,\n",
              "  '0.033*the + 0.017*to + 0.014*of + 0.013*and + 0.011*in + 0.009*is + 0.009*that + 0.008*it + 0.006*you + 0.006*for'),\n",
              " (6,\n",
              "  '0.022*the + 0.013*of + 0.010*to + 0.009*and + 0.008*is + 0.006*in + 0.006*that + 0.005*for + 0.004*it + 0.004*you'),\n",
              " (7,\n",
              "  '0.020*the + 0.012*of + 0.009*to + 0.007*is + 0.006*and + 0.005*in + 0.004*that + 0.004*you + 0.004*it + 0.004*for'),\n",
              " (8,\n",
              "  '0.019*the + 0.012*to + 0.008*of + 0.007*and + 0.007*that + 0.007*in + 0.005*is + 0.005*it + 0.005*you + 0.004*not'),\n",
              " (9,\n",
              "  '0.008*det + 0.008*tor + 0.008*bos + 0.008*la + 0.008*chi + 0.007*nj + 0.007*pit + 0.006*nyr + 0.006*van + 0.006*nyi'),\n",
              " (10,\n",
              "  '0.011*the + 0.005*of + 0.004*to + 0.003*is + 0.003*period + 0.003*pp + 0.002*it + 0.002*in + 0.002*that + 0.002*and'),\n",
              " (11,\n",
              "  '0.013*the + 0.006*to + 0.005*of + 0.004*that + 0.004*is + 0.004*in + 0.003*it + 0.003*and + 0.003*not + 0.003*on'),\n",
              " (12,\n",
              "  '0.007*the + 0.003*to + 0.003*of + 0.003*and + 0.003*you + 0.002*that + 0.002*is + 0.002*for + 0.002*in + 0.002*it'),\n",
              " (13,\n",
              "  '0.010*the + 0.004*edu + 0.003*uci + 0.003*ics + 0.003*gif + 0.003*incoming + 0.003*in + 0.003*geode + 0.002*and + 0.002*you'),\n",
              " (14,\n",
              "  '0.008*lost + 0.008*won + 0.004*idle + 0.002*chicago + 0.002*san + 0.002*new + 0.002*york + 0.002*sox + 0.002*american + 0.002*national'),\n",
              " (15,\n",
              "  '0.008*edu + 0.008*com + 0.002*cs + 0.002*the + 0.001*david + 0.001*ac + 0.001*netcom + 0.001*uk + 0.001*john + 0.001*ca'),\n",
              " (16,\n",
              "  '0.005*the + 0.002*to + 0.002*and + 0.002*of + 0.002*it + 0.002*is + 0.001*that + 0.001*in + 0.001*you + 0.001*for'),\n",
              " (17,\n",
              "  '0.006*the + 0.002*of + 0.002*be + 0.002*to + 0.001*and + 0.001*law + 0.001*enforcement + 0.001*is + 0.001*block + 0.001*chip'),\n",
              " (18,\n",
              "  '0.004*the + 0.003*you + 0.002*to + 0.002*of + 0.002*and + 0.001*is + 0.001*it + 0.001*that + 0.001*in + 0.001*can'),\n",
              " (19,\n",
              "  '0.004*the + 0.003*of + 0.002*and + 0.002*to + 0.001*is + 0.001*in + 0.001*energy + 0.001*are + 0.001*from + 0.001*that')]"
            ]
          },
          "metadata": {},
          "execution_count": 35
        }
      ]
    },
    {
      "cell_type": "markdown",
      "source": [
        "Tried using GuidedLDA, it doesn't work good."
      ],
      "metadata": {
        "id": "pmKZPtxYcWNs"
      }
    },
    {
      "cell_type": "markdown",
      "source": [
        "Evaluation"
      ],
      "metadata": {
        "id": "vOK0MECtcc1o"
      }
    },
    {
      "cell_type": "code",
      "source": [
        "# ===================================================================\n",
        "# Data Preparation for Gensim\n",
        "# ===================================================================\n",
        "from gensim.corpora import Dictionary\n",
        "from gensim.models import LdaModel, CoherenceModel\n",
        "from gensim.utils import simple_preprocess\n",
        "\n",
        "# Preprocess texts for Gensim\n",
        "texts = [simple_preprocess(doc, deacc=True) for doc in documents]\n",
        "\n",
        "# Create dictionary and corpus\n",
        "dictionary = Dictionary(texts)\n",
        "dictionary.filter_extremes(no_below=2, no_above=0.95)  # Match sklearn's min_df/max_df\n",
        "corpus = [dictionary.doc2bow(text) for text in texts]\n",
        "\n",
        "# ===================================================================\n",
        "# Corrected LDA Implementation with Gensim\n",
        "# ===================================================================\n"
      ],
      "metadata": {
        "id": "wMNP4GQAeqWG"
      },
      "execution_count": 36,
      "outputs": []
    },
    {
      "cell_type": "code",
      "source": [
        "# Train Gensim LDA\n",
        "lda_gensim = LdaModel(\n",
        "    corpus=corpus,\n",
        "    id2word=dictionary,\n",
        "    num_topics=10,\n",
        "    random_state=42,\n",
        "    passes=5,\n",
        "    alpha='auto'\n",
        ")\n",
        "\n",
        "# Display topics from Gensim model\n",
        "def print_gensim_topics(model, num_words=10):\n",
        "    for idx, topic in model.print_topics(-1, num_words):\n",
        "        print(f\"Topic {idx}: {topic}\\n\")\n",
        "\n",
        "print_gensim_topics(lda_gensim)\n",
        "\n",
        "# ===================================================================\n",
        "# Corrected Coherence Calculation\n",
        "# ===================================================================\n"
      ],
      "metadata": {
        "colab": {
          "base_uri": "https://localhost:8080/"
        },
        "id": "S8C7iy9sfBqG",
        "outputId": "9a516164-90fa-4bf5-e9b4-7459c11b8577"
      },
      "execution_count": 37,
      "outputs": [
        {
          "output_type": "stream",
          "name": "stdout",
          "text": [
            "Topic 0: 0.091*\"the\" + 0.053*\"of\" + 0.032*\"in\" + 0.032*\"and\" + 0.018*\"to\" + 0.012*\"by\" + 0.011*\"were\" + 0.008*\"from\" + 0.007*\"was\" + 0.007*\"their\"\n",
            "\n",
            "Topic 1: 0.654*\"ax\" + 0.048*\"max\" + 0.007*\"pl\" + 0.006*\"di\" + 0.006*\"tm\" + 0.005*\"ei\" + 0.005*\"wm\" + 0.005*\"bhj\" + 0.005*\"giz\" + 0.004*\"ey\"\n",
            "\n",
            "Topic 2: 0.045*\"the\" + 0.033*\"to\" + 0.020*\"it\" + 0.019*\"and\" + 0.017*\"is\" + 0.016*\"you\" + 0.016*\"of\" + 0.016*\"for\" + 0.014*\"in\" + 0.011*\"on\"\n",
            "\n",
            "Topic 3: 0.063*\"the\" + 0.034*\"to\" + 0.026*\"that\" + 0.025*\"of\" + 0.025*\"and\" + 0.018*\"in\" + 0.017*\"it\" + 0.016*\"is\" + 0.015*\"you\" + 0.010*\"they\"\n",
            "\n",
            "Topic 4: 0.052*\"the\" + 0.038*\"of\" + 0.037*\"and\" + 0.021*\"in\" + 0.019*\"for\" + 0.014*\"to\" + 0.010*\"on\" + 0.008*\"space\" + 0.007*\"by\" + 0.007*\"from\"\n",
            "\n",
            "Topic 5: 0.049*\"the\" + 0.022*\"to\" + 0.022*\"and\" + 0.016*\"for\" + 0.015*\"with\" + 0.015*\"is\" + 0.014*\"it\" + 0.011*\"have\" + 0.010*\"of\" + 0.009*\"on\"\n",
            "\n",
            "Topic 6: 0.043*\"the\" + 0.024*\"to\" + 0.023*\"and\" + 0.018*\"of\" + 0.017*\"is\" + 0.014*\"in\" + 0.014*\"for\" + 0.009*\"it\" + 0.009*\"you\" + 0.008*\"or\"\n",
            "\n",
            "Topic 7: 0.007*\"db\" + 0.005*\"st\" + 0.005*\"mm\" + 0.004*\"mv\" + 0.004*\"mk\" + 0.004*\"det\" + 0.004*\"mp\" + 0.004*\"bos\" + 0.004*\"pit\" + 0.004*\"ma\"\n",
            "\n",
            "Topic 8: 0.047*\"the\" + 0.018*\"in\" + 0.012*\"game\" + 0.011*\"and\" + 0.010*\"team\" + 0.010*\"he\" + 0.010*\"for\" + 0.009*\"to\" + 0.008*\"at\" + 0.008*\"year\"\n",
            "\n",
            "Topic 9: 0.060*\"the\" + 0.044*\"of\" + 0.033*\"is\" + 0.032*\"to\" + 0.020*\"and\" + 0.019*\"that\" + 0.018*\"in\" + 0.013*\"be\" + 0.011*\"this\" + 0.011*\"are\"\n",
            "\n"
          ]
        }
      ]
    },
    {
      "cell_type": "code",
      "source": [
        "coherence_model = CoherenceModel(\n",
        "    model=lda_gensim,\n",
        "    texts=texts,  # Use the preprocessed texts\n",
        "    dictionary=dictionary,\n",
        "    coherence='c_v'\n",
        ")\n",
        "\n",
        "coherence = coherence_model.get_coherence()\n",
        "print(f\"Coherence Score: {coherence:.4f}\")\n",
        "\n",
        "# ===================================================================\n",
        "# Updated sklearn LDA Section (Alternative Approach)\n",
        "# ===================================================================\n",
        "# If you want to keep sklearn LDA for comparison\n"
      ],
      "metadata": {
        "colab": {
          "base_uri": "https://localhost:8080/"
        },
        "id": "2WA6_IEqe6Lc",
        "outputId": "1660296c-78dc-4623-8dac-5b3ec6603c07"
      },
      "execution_count": 38,
      "outputs": [
        {
          "output_type": "stream",
          "name": "stdout",
          "text": [
            "Coherence Score: 0.5022\n"
          ]
        }
      ]
    },
    {
      "cell_type": "code",
      "source": [
        "from sklearn.decomposition import LatentDirichletAllocation\n",
        "\n",
        "# sklearn LDA requires the count matrix from CountVectorizer\n",
        "sklearn_lda = LatentDirichletAllocation(\n",
        "    n_components=10,\n",
        "    learning_method='online',\n",
        "    random_state=42\n",
        ")\n",
        "sklearn_lda.fit(count)  # 'count' from original CountVectorizer\n",
        "\n",
        "# Different visualization for sklearn LDA\n",
        "def print_sklearn_topics(model, feature_names, n_top_words=10):\n",
        "    for topic_idx, topic in enumerate(model.components_):\n",
        "        print(f\"Topic {topic_idx}:\")\n",
        "        print(\" \".join([feature_names[i] for i in topic.argsort()[:-n_top_words - 1:-1]]))\n",
        "\n",
        "print_sklearn_topics(sklearn_lda, count_vectorizer.get_feature_names_out())\n",
        "\n",
        "# ===================================================================\n",
        "# Affected Code Fixes\n",
        "# ===================================================================\n",
        "# 1. Hierarchical Dirichlet Process (HDP) now uses same preprocessed corpus\n",
        "from gensim.models import HdpModel\n",
        "\n",
        "hdp = HdpModel(corpus=corpus, id2word=dictionary)\n",
        "hdp.print_topics()\n",
        "\n",
        "\n",
        "\n"
      ],
      "metadata": {
        "colab": {
          "base_uri": "https://localhost:8080/"
        },
        "id": "xPccvHtvfK6k",
        "outputId": "2b61e33d-4483-4072-93fc-28460d11ef6c"
      },
      "execution_count": 39,
      "outputs": [
        {
          "output_type": "stream",
          "name": "stdout",
          "text": [
            "Topic 0:\n",
            "god people say believe does jesus think don know evidence\n",
            "Topic 1:\n",
            "like just don know use good time ve does way\n",
            "Topic 2:\n",
            "00 edu com 1993 space ca 04 university cs 10\n",
            "Topic 3:\n",
            "game team year games play season hockey players league win\n",
            "Topic 4:\n",
            "file edu program image available files ftp use data window\n",
            "Topic 5:\n",
            "10 25 12 20 15 11 14 16 13 17\n",
            "Topic 6:\n",
            "armenian israel armenians people war jews turkish said israeli killed\n",
            "Topic 7:\n",
            "ax max b8f g9v a86 pl 145 1d9 0t 1t\n",
            "Topic 8:\n",
            "dos drive windows card disk scsi mac pc ms thanks\n",
            "Topic 9:\n",
            "people think government don right said time going did law\n"
          ]
        },
        {
          "output_type": "stream",
          "name": "stderr",
          "text": [
            "WARNING:gensim.models.hdpmodel:likelihood is decreasing!\n",
            "WARNING:gensim.models.hdpmodel:likelihood is decreasing!\n",
            "WARNING:gensim.models.hdpmodel:likelihood is decreasing!\n",
            "WARNING:gensim.models.hdpmodel:likelihood is decreasing!\n",
            "WARNING:gensim.models.hdpmodel:likelihood is decreasing!\n",
            "WARNING:gensim.models.hdpmodel:likelihood is decreasing!\n",
            "WARNING:gensim.models.hdpmodel:likelihood is decreasing!\n",
            "WARNING:gensim.models.hdpmodel:likelihood is decreasing!\n",
            "WARNING:gensim.models.hdpmodel:likelihood is decreasing!\n",
            "WARNING:gensim.models.hdpmodel:likelihood is decreasing!\n",
            "WARNING:gensim.models.hdpmodel:likelihood is decreasing!\n",
            "WARNING:gensim.models.hdpmodel:likelihood is decreasing!\n",
            "WARNING:gensim.models.hdpmodel:likelihood is decreasing!\n",
            "WARNING:gensim.models.hdpmodel:likelihood is decreasing!\n",
            "WARNING:gensim.models.hdpmodel:likelihood is decreasing!\n",
            "WARNING:gensim.models.hdpmodel:likelihood is decreasing!\n",
            "WARNING:gensim.models.hdpmodel:likelihood is decreasing!\n",
            "WARNING:gensim.models.hdpmodel:likelihood is decreasing!\n",
            "WARNING:gensim.models.hdpmodel:likelihood is decreasing!\n",
            "WARNING:gensim.models.hdpmodel:likelihood is decreasing!\n",
            "WARNING:gensim.models.hdpmodel:likelihood is decreasing!\n",
            "WARNING:gensim.models.hdpmodel:likelihood is decreasing!\n",
            "WARNING:gensim.models.hdpmodel:likelihood is decreasing!\n",
            "WARNING:gensim.models.hdpmodel:likelihood is decreasing!\n",
            "WARNING:gensim.models.hdpmodel:likelihood is decreasing!\n",
            "WARNING:gensim.models.hdpmodel:likelihood is decreasing!\n",
            "WARNING:gensim.models.hdpmodel:likelihood is decreasing!\n",
            "WARNING:gensim.models.hdpmodel:likelihood is decreasing!\n",
            "WARNING:gensim.models.hdpmodel:likelihood is decreasing!\n",
            "WARNING:gensim.models.hdpmodel:likelihood is decreasing!\n",
            "WARNING:gensim.models.hdpmodel:likelihood is decreasing!\n",
            "WARNING:gensim.models.hdpmodel:likelihood is decreasing!\n",
            "WARNING:gensim.models.hdpmodel:likelihood is decreasing!\n",
            "WARNING:gensim.models.hdpmodel:likelihood is decreasing!\n",
            "WARNING:gensim.models.hdpmodel:likelihood is decreasing!\n",
            "WARNING:gensim.models.hdpmodel:likelihood is decreasing!\n",
            "WARNING:gensim.models.hdpmodel:likelihood is decreasing!\n",
            "WARNING:gensim.models.hdpmodel:likelihood is decreasing!\n",
            "WARNING:gensim.models.hdpmodel:likelihood is decreasing!\n",
            "WARNING:gensim.models.hdpmodel:likelihood is decreasing!\n",
            "WARNING:gensim.models.hdpmodel:likelihood is decreasing!\n",
            "WARNING:gensim.models.hdpmodel:likelihood is decreasing!\n",
            "WARNING:gensim.models.hdpmodel:likelihood is decreasing!\n",
            "WARNING:gensim.models.hdpmodel:likelihood is decreasing!\n",
            "WARNING:gensim.models.hdpmodel:likelihood is decreasing!\n"
          ]
        },
        {
          "output_type": "execute_result",
          "data": {
            "text/plain": [
              "[(0,\n",
              "  '0.054*the + 0.027*to + 0.024*of + 0.022*and + 0.016*is + 0.016*in + 0.013*that + 0.012*it + 0.011*for + 0.009*you'),\n",
              " (1,\n",
              "  '0.059*the + 0.029*to + 0.027*of + 0.024*and + 0.017*that + 0.017*in + 0.015*is + 0.013*it + 0.011*you + 0.009*for'),\n",
              " (2,\n",
              "  '0.419*ax + 0.030*max + 0.007*pl + 0.004*ei + 0.004*di + 0.004*tm + 0.003*wm + 0.003*bhj + 0.003*giz + 0.003*cx'),\n",
              " (3,\n",
              "  '0.044*the + 0.021*to + 0.021*of + 0.016*and + 0.013*in + 0.012*is + 0.011*that + 0.009*it + 0.009*for + 0.007*you'),\n",
              " (4,\n",
              "  '0.030*the + 0.013*to + 0.012*of + 0.011*and + 0.010*is + 0.008*in + 0.008*it + 0.006*for + 0.006*that + 0.006*dos'),\n",
              " (5,\n",
              "  '0.031*the + 0.016*to + 0.013*of + 0.011*and + 0.010*is + 0.010*in + 0.008*that + 0.008*it + 0.006*you + 0.005*this'),\n",
              " (6,\n",
              "  '0.025*the + 0.012*to + 0.011*and + 0.011*of + 0.007*for + 0.007*in + 0.007*is + 0.006*that + 0.006*it + 0.005*you'),\n",
              " (7,\n",
              "  '0.013*pit + 0.011*det + 0.009*bos + 0.009*tor + 0.009*chi + 0.009*van + 0.007*la + 0.007*que + 0.007*nyr + 0.006*buf'),\n",
              " (8,\n",
              "  '0.019*the + 0.009*to + 0.009*of + 0.006*and + 0.006*in + 0.005*that + 0.004*is + 0.004*it + 0.003*for + 0.003*you'),\n",
              " (9,\n",
              "  '0.014*the + 0.006*of + 0.006*to + 0.004*is + 0.004*in + 0.004*you + 0.003*and + 0.003*that + 0.003*it + 0.003*edu'),\n",
              " (10,\n",
              "  '0.009*the + 0.005*to + 0.005*and + 0.003*you + 0.003*in + 0.003*of + 0.003*have + 0.003*is + 0.002*or + 0.002*that'),\n",
              " (11,\n",
              "  '0.014*the + 0.005*of + 0.004*to + 0.004*is + 0.004*and + 0.003*in + 0.003*be + 0.002*it + 0.002*that + 0.002*for'),\n",
              " (12,\n",
              "  '0.012*the + 0.006*of + 0.006*to + 0.004*and + 0.003*in + 0.003*that + 0.002*for + 0.002*is + 0.002*at + 0.002*have'),\n",
              " (13,\n",
              "  '0.005*period + 0.004*pp + 0.003*shots + 0.002*saves + 0.002*of + 0.002*power + 0.002*st + 0.002*courtnall + 0.002*play + 0.001*vancouver'),\n",
              " (14,\n",
              "  '0.006*the + 0.003*of + 0.003*and + 0.003*is + 0.002*to + 0.002*in + 0.002*you + 0.002*for + 0.001*files + 0.001*have'),\n",
              " (15,\n",
              "  '0.008*the + 0.003*to + 0.003*of + 0.002*and + 0.002*you + 0.002*that + 0.002*it + 0.002*in + 0.002*was + 0.002*is'),\n",
              " (16,\n",
              "  '0.008*won + 0.008*lost + 0.004*idle + 0.002*new + 0.002*york + 0.002*chicago + 0.002*san + 0.002*sox + 0.002*american + 0.002*national'),\n",
              " (17,\n",
              "  '0.005*the + 0.004*to + 0.003*you + 0.002*and + 0.002*of + 0.002*it + 0.001*in + 0.001*for + 0.001*are + 0.001*on'),\n",
              " (18,\n",
              "  '0.005*the + 0.004*and + 0.002*of + 0.002*in + 0.002*to + 0.001*is + 0.001*it + 0.001*on + 0.001*for + 0.001*with'),\n",
              " (19,\n",
              "  '0.004*the + 0.003*of + 0.002*to + 0.002*and + 0.002*you + 0.001*in + 0.001*on + 0.001*be + 0.001*is + 0.001*it')]"
            ]
          },
          "metadata": {},
          "execution_count": 39
        }
      ]
    },
    {
      "cell_type": "code",
      "source": [
        "# 2. pyLDAvis visualization for sklearn LDA remains valid\n",
        "import pyLDAvis\n",
        "import pyLDAvis.lda_model\n",
        "\n",
        "# pyLDAvis.lda_model.prepare\n",
        "\n",
        "pyLDAvis.enable_notebook()\n",
        "vis = pyLDAvis.lda_model.prepare(sklearn_lda, count, count_vectorizer)\n",
        "vis"
      ],
      "metadata": {
        "colab": {
          "base_uri": "https://localhost:8080/",
          "height": 862
        },
        "id": "-4GmiqGjfK9G",
        "outputId": "e58b23ef-202f-41cc-cdca-d71ae8bde85d"
      },
      "execution_count": 42,
      "outputs": [
        {
          "output_type": "execute_result",
          "data": {
            "text/plain": [
              "PreparedData(topic_coordinates=              x         y  topics  cluster       Freq\n",
              "topic                                                \n",
              "1     -0.228736  0.051875       1        1  20.070316\n",
              "9     -0.195916 -0.081551       2        1  17.741318\n",
              "0     -0.203876 -0.104910       3        1  12.495616\n",
              "4     -0.043055  0.270423       4        1  11.309169\n",
              "7      0.322528  0.020844       5        1   8.154269\n",
              "8     -0.089287  0.226538       6        1   7.433353\n",
              "6     -0.011212 -0.231605       7        1   6.395738\n",
              "5      0.194002 -0.003348       8        1   6.360456\n",
              "2      0.221460  0.014701       9        1   5.413289\n",
              "3      0.034092 -0.162966      10        1   4.626477, topic_info=         Term          Freq         Total Category  logprob  loglift\n",
              "8329       ax  60760.000000  60760.000000  Default  30.0000  30.0000\n",
              "30038     max   4513.000000   4513.000000  Default  29.0000  29.0000\n",
              "21794     god   3365.000000   3365.000000  Default  28.0000  28.0000\n",
              "17653     edu   3586.000000   3586.000000  Default  27.0000  27.0000\n",
              "19936    file   2596.000000   2596.000000  Default  26.0000  26.0000\n",
              "...       ...           ...           ...      ...      ...      ...\n",
              "45984   think    349.295399   4886.872279  Topic10  -5.4847   0.4350\n",
              "21856    good    302.380887   3818.840194  Topic10  -5.6289   0.5374\n",
              "41508  second    262.129351   1398.432929  Topic10  -5.7718   1.3991\n",
              "9245     best    258.445472   1489.978232  Topic10  -5.7859   1.3215\n",
              "21901     got    254.479031   1752.762836  Topic10  -5.8014   1.1436\n",
              "\n",
              "[642 rows x 6 columns], token_table=       Topic      Freq   Term\n",
              "term                         \n",
              "0          2  0.007080     00\n",
              "0          8  0.009258     00\n",
              "0          9  0.982968     00\n",
              "1          1  0.036084    000\n",
              "1          2  0.102555    000\n",
              "...      ...       ...    ...\n",
              "51347      7  0.121227  years\n",
              "51347      8  0.026045  years\n",
              "51347     10  0.083344  years\n",
              "51708      4  0.982045    zip\n",
              "51708      6  0.017663    zip\n",
              "\n",
              "[1358 rows x 3 columns], R=30, lambda_step=0.01, plot_opts={'xlab': 'PC1', 'ylab': 'PC2'}, topic_order=[2, 10, 1, 5, 8, 9, 7, 6, 3, 4])"
            ],
            "text/html": [
              "\n",
              "<link rel=\"stylesheet\" type=\"text/css\" href=\"https://cdn.jsdelivr.net/gh/bmabey/pyLDAvis@3.4.0/pyLDAvis/js/ldavis.v1.0.0.css\">\n",
              "\n",
              "\n",
              "<div id=\"ldavis_el2641360777496672001733862925\" style=\"background-color:white;\"></div>\n",
              "<script type=\"text/javascript\">\n",
              "\n",
              "var ldavis_el2641360777496672001733862925_data = {\"mdsDat\": {\"x\": [-0.22873579247962278, -0.1959164836749013, -0.20387550123982015, -0.04305508674427289, 0.3225279945079813, -0.08928684939158926, -0.011212214585233011, 0.19400216992268726, 0.2214598575005267, 0.03409190618424396], \"y\": [0.05187495915830869, -0.08155121280892914, -0.1049101159561736, 0.27042304753219165, 0.020844025138088657, 0.22653840656961002, -0.23160532177920262, -0.0033480783972195294, 0.014700613642887078, -0.16296632309956127], \"topics\": [1, 2, 3, 4, 5, 6, 7, 8, 9, 10], \"cluster\": [1, 1, 1, 1, 1, 1, 1, 1, 1, 1], \"Freq\": [20.070315658155785, 17.741317992937752, 12.495615587344593, 11.309168827694641, 8.154268624190577, 7.433353404764914, 6.395738080075001, 6.360455516787725, 5.413289032823879, 4.626477275225125]}, \"tinfo\": {\"Term\": [\"ax\", \"max\", \"god\", \"edu\", \"file\", \"00\", \"people\", \"game\", \"windows\", \"10\", \"drive\", \"dos\", \"25\", \"year\", \"use\", \"just\", \"know\", \"com\", \"don\", \"team\", \"image\", \"does\", \"like\", \"card\", \"program\", \"think\", \"files\", \"software\", \"space\", \"ftp\", \"phone\", \"tape\", \"engine\", \"insurance\", \"encryption\", \"fix\", \"random\", \"dealer\", \"buying\", \"compression\", \"noise\", \"wall\", \"crypto\", \"rsa\", \"hasn\", \"scheme\", \"relatively\", \"utility\", \"bmw\", \"backup\", \"usage\", \"shift\", \"desktop\", \"extended\", \"motor\", \"replacement\", \"selection\", \"purchased\", \"phones\", \"dept\", \"clean\", \"remove\", \"traffic\", \"car\", \"weight\", \"copy\", \"circuit\", \"picture\", \"clipper\", \"values\", \"stuff\", \"like\", \"value\", \"ve\", \"just\", \"getting\", \"usually\", \"try\", \"parts\", \"read\", \"really\", \"good\", \"sure\", \"probably\", \"problem\", \"know\", \"don\", \"start\", \"work\", \"want\", \"couple\", \"maybe\", \"use\", \"time\", \"way\", \"doesn\", \"need\", \"better\", \"make\", \"used\", \"does\", \"key\", \"ll\", \"thing\", \"new\", \"think\", \"help\", \"information\", \"people\", \"gun\", \"fbi\", \"bike\", \"stephanopoulos\", \"guns\", \"federal\", \"cable\", \"clinton\", \"safety\", \"door\", \"enforcement\", \"mission\", \"decision\", \"tax\", \"batf\", \"firearms\", \"treatment\", \"illegal\", \"escrow\", \"amendment\", \"weapon\", \"compound\", \"vehicle\", \"claimed\", \"criminals\", \"nuclear\", \"paid\", \"agency\", \"agents\", \"lunar\", \"president\", \"protect\", \"administration\", \"jobs\", \"congress\", \"house\", \"morning\", \"court\", \"carry\", \"weapons\", \"government\", \"police\", \"mr\", \"money\", \"law\", \"crime\", \"state\", \"legal\", \"going\", \"people\", \"right\", \"control\", \"rights\", \"said\", \"pay\", \"earth\", \"think\", \"years\", \"did\", \"states\", \"didn\", \"long\", \"don\", \"public\", \"time\", \"day\", \"space\", \"just\", \"know\", \"year\", \"make\", \"like\", \"say\", \"ll\", \"god\", \"jesus\", \"bible\", \"church\", \"christ\", \"christians\", \"faith\", \"lord\", \"father\", \"sin\", \"belief\", \"christianity\", \"sex\", \"moral\", \"atheism\", \"homosexual\", \"spirit\", \"homosexuality\", \"beliefs\", \"cancer\", \"holy\", \"atheists\", \"heaven\", \"gay\", \"evil\", \"sexual\", \"atheist\", \"scripture\", \"catholic\", \"eternal\", \"christian\", \"religion\", \"truth\", \"evidence\", \"religious\", \"claim\", \"love\", \"life\", \"believe\", \"argument\", \"word\", \"say\", \"people\", \"man\", \"true\", \"words\", \"does\", \"human\", \"think\", \"did\", \"don\", \"fact\", \"know\", \"way\", \"point\", \"just\", \"said\", \"things\", \"question\", \"like\", \"ftp\", \"server\", \"pub\", \"images\", \"jpeg\", \"directory\", \"file\", \"anonymous\", \"gif\", \"motif\", \"widget\", \"x11\", \"tar\", \"lib\", \"xterm\", \"formats\", \"client\", \"x11r5\", \"usr\", \"int\", \"contrib\", \"shareware\", \"clients\", \"database\", \"openwindows\", \"ip\", \"packages\", \"tcp\", \"format\", \"menu\", \"files\", \"keyboard\", \"image\", \"mit\", \"processing\", \"window\", \"archive\", \"zip\", \"application\", \"user\", \"comp\", \"entry\", \"display\", \"program\", \"graphics\", \"code\", \"available\", \"faq\", \"version\", \"data\", \"unix\", \"edu\", \"software\", \"information\", \"sun\", \"use\", \"mail\", \"send\", \"com\", \"color\", \"using\", \"windows\", \"set\", \"list\", \"ax\", \"b8f\", \"g9v\", \"a86\", \"pl\", \"1d9\", \"0t\", \"1t\", \"34u\", \"bhj\", \"75u\", \"3t\", \"giz\", \"2di\", \"2tm\", \"7ey\", \"0d\", \"bxn\", \"gk\", \"6ei\", \"bj\", \"w7\", \"chz\", \"9v\", \"d9\", \"m3\", \"lk\", \"7u\", \"mw\", \"qq\", \"max\", \"cx\", \"145\", \"wm\", \"sl\", \"ah\", \"34\", \"scsi\", \"monitor\", \"drives\", \"drivers\", \"ram\", \"controller\", \"cpu\", \"cards\", \"faster\", \"printer\", \"floppy\", \"ide\", \"vga\", \"pin\", \"amiga\", \"colors\", \"bios\", \"compatible\", \"mhz\", \"motherboard\", \"meg\", \"isa\", \"cache\", \"simms\", \"nec\", \"lc\", \"processor\", \"msg\", \"upgrade\", \"turbo\", \"card\", \"disk\", \"modem\", \"apple\", \"dos\", \"video\", \"memory\", \"drive\", \"disks\", \"ms\", \"bus\", \"mac\", \"windows\", \"board\", \"driver\", \"pc\", \"mode\", \"port\", \"fast\", \"price\", \"thanks\", \"software\", \"computer\", \"bit\", \"hard\", \"does\", \"use\", \"know\", \"problem\", \"work\", \"need\", \"like\", \"armenian\", \"armenians\", \"turkish\", \"israeli\", \"population\", \"turkey\", \"arab\", \"muslim\", \"muslims\", \"soviet\", \"armenia\", \"turks\", \"genocide\", \"british\", \"islam\", \"azerbaijan\", \"professor\", \"villages\", \"adl\", \"nazi\", \"arabs\", \"ottoman\", \"greece\", \"troops\", \"village\", \"islamic\", \"istanbul\", \"palestinian\", \"azerbaijani\", \"eastern\", \"soldiers\", \"israel\", \"war\", \"jews\", \"killed\", \"russian\", \"jewish\", \"history\", \"greek\", \"children\", \"university\", \"women\", \"000\", \"people\", \"said\", \"world\", \"government\", \"new\", \"db\", \"55\", \"pit\", \"oil\", \"patients\", \"heat\", \"det\", \"battery\", \"hiv\", \"bos\", \"56\", \"tor\", \"52\", \"chi\", \"hour\", \"rear\", \"que\", \"vitamin\", \"happening\", \"nyi\", \"infection\", \"stl\", \"clinical\", \"nyr\", \"wires\", \"kent\", \"amp\", \"opened\", \"cool\", \"jets\", \"doctor\", \"54\", \"disease\", \"31\", \"38\", \"25\", \"gas\", \"26\", \"medical\", \"42\", \"12\", \"13\", \"43\", \"water\", \"39\", \"10\", \"vs\", \"11\", \"23\", \"19\", \"14\", \"28\", \"15\", \"22\", \"18\", \"17\", \"20\", \"16\", \"40\", \"21\", \"27\", \"92\", \"24\", \"30\", \"50\", \"33\", \"000\", \"04\", \"au\", \"__\", \"mon\", \"_____\", \"xfree86\", \"venus\", \"wolverine\", \"___\", \"gmt\", \"oz\", \"att\", \"planetary\", \"comics\", \"jupiter\", \"henrik\", \"hulk\", \"rd\", \"ee\", \"probes\", \"617\", \"astro\", \"abc\", \"su\", \"ga\", \"proceedings\", \"phigs\", \"147\", \"pitchers\", \"____\", \"00\", \"apr\", \"mars\", \"spacecraft\", \"ca\", \"03\", \"01\", \"astronomy\", \"06\", \"solar\", \"02\", \"05\", \"07\", \"cs\", \"atmosphere\", \"1993\", \"journal\", \"edu\", \"com\", \"nasa\", \"university\", \"space\", \"surface\", \"93\", \"satellite\", \"april\", \"center\", \"50\", \"1992\", \"20\", \"10\", \"new\", \"dr\", \"research\", \"15\", \"conference\", \"man\", \"game\", \"games\", \"season\", \"hockey\", \"players\", \"baseball\", \"teams\", \"nhl\", \"fans\", \"pittsburgh\", \"detroit\", \"string\", \"rangers\", \"stats\", \"espn\", \"montreal\", \"leafs\", \"scoring\", \"playoffs\", \"flyers\", \"blues\", \"puck\", \"pitcher\", \"playoff\", \"pitching\", \"braves\", \"scored\", \"league\", \"pens\", \"morris\", \"player\", \"team\", \"ball\", \"myers\", \"boston\", \"toronto\", \"chicago\", \"play\", \"gm\", \"played\", \"win\", \"year\", \"goal\", \"hit\", \"san\", \"period\", \"won\", \"series\", \"lost\", \"think\", \"good\", \"second\", \"best\", \"got\"], \"Freq\": [60760.0, 4513.0, 3365.0, 3586.0, 2596.0, 1836.0, 6302.0, 1430.0, 2235.0, 2664.0, 1710.0, 1692.0, 1732.0, 2097.0, 4968.0, 6055.0, 5612.0, 2070.0, 6349.0, 1117.0, 1536.0, 4355.0, 6389.0, 1255.0, 2023.0, 4886.0, 1399.0, 1751.0, 1807.0, 1312.0, 853.5509999539167, 465.51083801723814, 397.67589527696197, 322.39825269766555, 681.9007337081299, 259.03443169615963, 255.27874116623133, 246.23964152675018, 236.18804263871425, 232.9113217740064, 219.94464638679383, 225.29549257726407, 197.14346682124238, 195.72098865795985, 191.58638369702055, 184.22049000184813, 182.47083764682654, 175.18066464001035, 172.4131012990096, 169.0861763807689, 163.2615479661212, 162.92416865132486, 159.58853060703586, 152.6466599370078, 148.2985422182777, 144.49342612855168, 142.67039998452725, 141.74165339881208, 139.41679662311168, 137.07712531175395, 199.12252629919246, 226.5853265018708, 237.9825247104902, 1168.6263389591236, 241.31477528778618, 666.6970290051526, 225.9779655377675, 305.66044416429094, 487.36205914696967, 319.24279620678146, 796.018614690993, 4060.7122847567316, 508.2506546622911, 2128.652199980755, 3723.269668753328, 795.3453436298614, 574.6715690208548, 1089.242787253375, 438.29737143396216, 1338.7625326100954, 1566.4624570776668, 2359.0345883085556, 1276.0170684330103, 1119.9789835879162, 1601.6282328469258, 3093.8647439980928, 3350.4647633917775, 775.6931816176601, 1578.706948608095, 1660.8836194842552, 528.1851008238242, 795.6789706023756, 2494.497474651375, 2300.1747874215184, 1752.7811461406302, 1093.1385719129562, 1481.123834475861, 1158.8058348769248, 1680.5804310164142, 1570.841210413493, 1969.0447711215875, 994.9210782955004, 1155.7015696776557, 1009.2741810649194, 1536.1174517886523, 1525.8459342616904, 994.4633444049132, 1009.9923961928404, 1017.4755292449801, 946.4191865131675, 609.7827727437741, 539.7969690589882, 480.01606898181353, 482.14625412980354, 425.0432967957402, 400.6212820965167, 411.34410618049424, 361.65740810368106, 377.7015375805728, 342.9421316809036, 334.9430145586218, 331.9873484632088, 325.03144350993915, 302.4242546568044, 297.802330428188, 291.4147191258949, 283.99517052830737, 281.9953678958493, 254.29731758469583, 244.8095082741613, 241.52753516472023, 239.27990177557166, 238.97666774336614, 228.03322925280094, 223.77463975212203, 279.86474160267306, 220.65513322172075, 242.7321398232748, 205.54858967513775, 968.3882138629216, 307.0014346000855, 401.2955893087788, 258.691335282852, 365.24192176220294, 672.8851697225253, 287.7044079264031, 391.2310813389313, 346.673397032358, 389.86137331978324, 1553.787538098045, 534.9411315352754, 1000.5033395063693, 697.2943029417386, 1021.7884011460071, 414.335317893161, 932.3327403788792, 392.92743446717157, 1170.544729724813, 2335.7056383239246, 1351.3565536575438, 728.1224051295999, 560.3394268401653, 1213.0360202190889, 457.2975161883471, 560.9202974487284, 1571.7689666233687, 955.013145643019, 1104.2292627938557, 574.3849714633592, 778.6625504881005, 785.1159818327474, 1434.7094694413631, 680.2821576554135, 1195.432828616346, 717.3836832556653, 764.1815883250366, 991.3719875796093, 940.6618047674006, 714.8033207776982, 740.8436220651565, 834.0397431000551, 702.9883997894325, 624.310118294891, 3364.948807463476, 1239.282932412095, 867.8889874795885, 859.2185774806878, 766.8249139137671, 680.6369170474545, 656.5422065834505, 520.8136029841693, 481.61284570935146, 476.6383403757029, 441.72594637121796, 383.3286962072348, 364.74629048969865, 363.05709419302343, 342.6438260728993, 341.19527967812513, 322.3680872968267, 318.9278553143327, 309.692407593899, 307.96472656605215, 285.77278146107903, 281.70419366043797, 275.08742266398554, 269.30985185366814, 264.2584429150219, 250.88617092212274, 250.08732910860135, 244.13153003537778, 241.68237037759877, 215.8847720773199, 858.0240385742319, 697.4445543260331, 513.4693674110035, 933.4050505167548, 481.56544369798297, 593.6903318968916, 552.5814912539738, 870.9446268086359, 1321.9806127073011, 512.1587669199232, 718.4171870417229, 1396.204309866829, 2196.7715181399203, 747.0758450965072, 826.3961860665005, 523.1685223862332, 1283.6177788187076, 567.3233020871595, 1227.648691524974, 864.4401388488959, 1105.3539659774024, 685.6802931037673, 962.0413292864413, 823.3733470448334, 714.2522928360922, 919.3104544447551, 751.0246883783689, 668.4349115836316, 643.7943909404422, 713.0061988431039, 1311.600705712241, 948.5245420911808, 847.4973454710147, 728.127696659141, 696.5919190836275, 562.8049678091513, 2592.746204754183, 533.5155448388259, 524.0255910999948, 516.4747142692428, 454.93634094807595, 390.52940110508234, 365.9699761700463, 316.786966192788, 290.43961719873107, 284.2354095117182, 259.5551959559283, 248.0564706883822, 233.54575651165464, 229.37446254661975, 221.4789891920083, 217.58670825973988, 210.9488707979008, 205.72034096055324, 200.5232973545198, 198.22645157847063, 197.40245327470325, 197.26224703049473, 714.4343082633332, 187.96873528506717, 1377.6876622818638, 373.9014646567645, 1478.7975941438574, 541.2911179923356, 343.1503982365897, 1058.2142653914607, 439.50128931792307, 277.55558838794565, 680.806239639524, 685.6177142917726, 495.13979910185896, 397.5100094421356, 756.5179495877017, 1523.5838177555092, 963.6876354701786, 842.1094738022999, 1445.4351289010826, 624.0477129961114, 999.5622644786475, 1208.1549326196396, 550.6265545971139, 1674.5454442587834, 1026.811822980919, 998.7210081391612, 609.4553859825246, 1225.0149493007943, 837.6905267050914, 710.1997729998777, 775.365903290884, 617.2010147346077, 734.3384635352538, 723.8813045310814, 657.8968222922459, 647.9931679666925, 60759.79915185356, 1131.6089847918397, 1090.681784180359, 940.9939261892844, 824.3915142227216, 666.4700452531146, 535.6029043632442, 513.8138978394302, 509.79657963011823, 450.3241168499756, 441.82825408301136, 434.6137052053925, 428.11499757643867, 423.0230329571603, 345.7891500649161, 280.26206937047766, 279.62225232019995, 249.6048871864028, 240.57921569256362, 231.24888721716113, 230.68543729712798, 229.22748273571375, 223.60374017593998, 220.29742251306965, 214.74412914373826, 213.6686588401155, 204.91962494435063, 201.57446578483467, 200.33135083202612, 199.09670168703275, 4475.780409363968, 365.9724645194597, 797.0398422754439, 397.8794733629019, 261.4153694886636, 260.6964840425741, 227.0611097251868, 826.2489988435548, 592.0794329495344, 517.6493238756447, 512.6054180493057, 479.11420318025864, 478.15307443653376, 420.3103043747561, 417.863981939898, 387.33596602495686, 368.3895339514655, 361.37911074270687, 342.68547749124497, 330.187686732632, 316.77181901164477, 299.08868612542534, 298.08637834300936, 297.5775425651619, 289.05729773987514, 275.8793427370856, 255.8465702466843, 242.5677091822124, 213.64490300001665, 180.4749824469529, 171.81319536067627, 171.25887426206063, 170.8266930271458, 169.50647713171466, 167.4068835001259, 211.0564805212811, 161.2303259380227, 1222.8340905294217, 1038.4565451212356, 443.1075659315095, 586.0963361064438, 1560.9251590773933, 681.8440216347863, 760.7529035031382, 1541.4788064121958, 296.0625847235317, 805.8682739272355, 521.8501704190707, 823.7350825484696, 1510.4679770658868, 558.0468953666322, 519.5526866677335, 809.992186568972, 496.51100367579267, 389.7965953760055, 449.2371237137095, 560.5221594499435, 785.4462472178083, 690.5002095569231, 605.4582694386972, 673.0994963480202, 590.847536508821, 710.1670365812824, 704.1776291008904, 573.7265391638292, 519.013535423015, 519.1875735852335, 514.4340251077102, 519.4870422721551, 924.2361616032927, 777.3699491020897, 654.2825884369071, 499.746105646128, 454.7360731907391, 422.50398431189365, 371.1392088958659, 354.3521954135304, 353.820612921941, 337.0486355650008, 322.67945368035635, 313.045346451121, 312.3521356906107, 259.6052192627604, 241.72667381737006, 238.8376968869073, 233.08621968188666, 213.85779185444846, 209.53362677557783, 207.74331116380273, 204.80833711731054, 196.2548428546174, 191.82987076921705, 183.87373051061886, 178.1255281540098, 175.88671622983628, 175.19917714175233, 168.38650068596056, 164.40994112359746, 161.98860484302924, 300.522171702889, 839.9653939136247, 711.7754222857922, 710.7912974193149, 461.13512323092556, 365.58395313779073, 413.72178223439056, 438.12365447516635, 307.860043431895, 443.8844616987592, 436.96683261973027, 342.102369728221, 427.06262929823055, 721.3963603187722, 513.4096356594188, 411.45166144847445, 358.29643674103755, 307.9256710451733, 647.0298275205749, 534.8675232202623, 345.41860209885846, 327.6327841849021, 307.2313289353549, 272.9172751829562, 267.49390909625123, 243.49770620027385, 244.5518990706885, 240.74096313921555, 239.2043161805417, 228.79326827693492, 215.18966923851966, 214.01177561804877, 203.8620198579784, 177.52300149801522, 168.70807017589337, 168.16137650195316, 166.0964614301997, 163.87810386707977, 155.85067467150506, 151.410946346188, 140.49535389606334, 136.3011513324543, 125.00297083615764, 124.83112612117475, 124.52122058415667, 122.5858354749962, 121.98464502529528, 115.03666794259517, 268.7831064615256, 226.72930835344889, 348.87148425697677, 426.77906415094037, 311.7850805808838, 1407.529658411425, 375.3138063202305, 487.9999726357817, 464.06946472275615, 299.10456301047736, 1065.0210792215726, 718.0088855123795, 273.4530895431353, 426.8978036236667, 276.60246817398234, 1613.5568408601343, 437.3918526341798, 898.2525377387208, 488.36434229347987, 553.7731085670983, 825.716532304085, 459.4129673458943, 903.4336006185641, 482.48604253246475, 629.8141345426059, 659.0325317494496, 915.6116677217661, 793.9236528882107, 583.1270225457021, 510.48742770339885, 447.2177821026527, 452.3501007073291, 555.0374632564552, 561.9196421931631, 561.0429987418765, 393.5703311730731, 433.245832744728, 502.67093345589353, 312.4194947086056, 213.88191270144267, 184.21555731217828, 151.1667682747927, 145.63718464442914, 169.2368091113726, 127.61258775829357, 121.39224190045196, 120.41192932245833, 118.62714269605634, 116.41603334227246, 112.00449437456446, 107.39168318446127, 106.26492500268958, 100.53437076029994, 98.52052265636257, 97.55410946189353, 94.98709887131594, 95.81123744018517, 95.68725286019871, 92.17708459628271, 91.58132369820918, 86.89953485093982, 86.26885118547555, 86.11029894880018, 86.04205129614, 85.02571109742352, 84.41989757679471, 79.58173405755004, 1804.8298093278768, 293.9574085598821, 175.63657971909439, 245.30518057759497, 626.1019225808727, 325.53876335731417, 259.6847993959217, 134.43137689585126, 208.91204740640245, 247.7910517863838, 327.194095670256, 245.17989186826458, 147.53743219510372, 468.6146279100718, 140.6822304821778, 657.3126649867547, 180.13832705081657, 1570.6400107204918, 876.3322646138773, 394.5303505203674, 490.42834398482825, 645.591923051063, 216.69636817054302, 347.07249848101156, 200.9278013242219, 328.16427909153816, 302.4220581896291, 363.23999900743433, 263.68635278514705, 370.71123971645477, 424.32973085923913, 389.4308399346387, 227.52184054516493, 257.81908519373087, 259.40525474704395, 219.00359707352996, 220.5845304998332, 1429.183363991431, 889.6452548357549, 577.7452722257826, 553.7581951729168, 503.23746395108515, 351.1517370411329, 339.8488159576848, 307.71755844983653, 248.98987464975983, 239.73943206583226, 235.11278645628835, 211.0794470171261, 196.49310690970813, 192.88911854660805, 165.86826769690845, 163.10322941775186, 163.03835749817944, 150.26385249586505, 149.43824804325413, 147.01077273576448, 145.1847546891849, 140.84204783045567, 137.83237354390678, 136.27917200530388, 135.63162834256988, 134.05148922168794, 133.22951799133517, 480.8229828503335, 130.99904315307168, 129.50131950525622, 417.3005632149145, 1049.6198472084463, 205.0243165440124, 309.228246139434, 300.2741851666059, 254.23124745501212, 276.24099803972064, 638.1780169903889, 316.32101570578857, 238.38609398609762, 446.42933584340443, 909.333065636622, 285.44654049320417, 298.5324875082311, 275.2246622208369, 354.59639041504215, 331.9532113592648, 266.5805827326018, 251.52344104235058, 349.29539933444397, 302.38088705673783, 262.1293511089284, 258.4454720898516, 254.47903107521864], \"Total\": [60760.0, 4513.0, 3365.0, 3586.0, 2596.0, 1836.0, 6302.0, 1430.0, 2235.0, 2664.0, 1710.0, 1692.0, 1732.0, 2097.0, 4968.0, 6055.0, 5612.0, 2070.0, 6349.0, 1117.0, 1536.0, 4355.0, 6389.0, 1255.0, 2023.0, 4886.0, 1399.0, 1751.0, 1807.0, 1312.0, 855.0777608710303, 466.393113415547, 398.71932215982025, 323.28086819737115, 684.0731921637406, 259.91672823704397, 256.16215005010247, 247.12687746156854, 237.07019995382967, 233.79352577419368, 220.8276070342853, 226.23635754570495, 198.0256470754193, 196.60326019059812, 192.4687603505511, 185.10267060089635, 183.35323686822056, 176.06304425539494, 173.29531519629197, 169.97510255404555, 164.14397810282136, 163.80638772496164, 160.47084366713597, 153.5292605185839, 149.18073146533746, 145.37569757042186, 143.5527767128049, 142.62397976135122, 140.29888264022844, 137.95964305849387, 200.7429787175235, 229.8299839926487, 241.7566780572695, 1274.4348289459488, 247.7554423580719, 722.6064968589917, 232.7687576412488, 321.70016667619484, 541.5875645623915, 341.97286956513415, 935.2037444153017, 6389.3711132880135, 594.2281534065327, 3087.4709802308903, 6055.560653763819, 1008.7256199292134, 690.659144879114, 1472.0008993836218, 504.9643873145638, 1901.2754429642405, 2313.992350544657, 3818.8401939920614, 1856.032414465968, 1588.5060786476902, 2479.369589485183, 5612.994416394641, 6349.054627641829, 1030.7330563710918, 2565.7508944095152, 2796.509962898207, 650.38471534743, 1107.8481317046387, 4968.9280343427445, 4700.735330315122, 3320.429631913425, 1728.342614277673, 2655.720420452705, 1895.6788917965996, 3264.4859881714297, 2963.9877793972246, 4355.791670984144, 1556.1815936527985, 2083.254460580303, 1646.6390123999881, 3989.926255848595, 4886.872279102602, 1939.1857750147715, 2295.5122268657055, 6302.165165645243, 947.302935624998, 610.6667600587207, 540.6807836545644, 480.89948068761083, 483.0500790435999, 425.9267711753554, 401.5055366955, 412.29358376285285, 362.5471065440361, 378.65897808944464, 343.8255987977487, 335.8265536117121, 332.87122461784986, 325.91515873260585, 303.30767007174495, 298.685776840902, 292.2983576138418, 284.87883943654964, 282.87904983995315, 255.18074576856202, 245.69325401872356, 242.41299557654926, 240.16344652891817, 239.8603525181467, 228.9168008015715, 224.66089071184186, 280.98258331225816, 221.538663169754, 243.75702983256963, 206.43211234734727, 977.3165559770397, 308.5287057118122, 405.56396836691795, 260.27322660786103, 371.3439905309774, 709.1019141658646, 291.75257386243317, 406.2921358801985, 357.5618587760891, 406.4120622329824, 1913.6044991170354, 602.8502138706918, 1281.989179010801, 854.9543660782954, 1458.8470309510935, 468.3440444496807, 1402.4105536824702, 440.57632977879246, 2178.6452362292976, 6302.165165645243, 2902.405348247356, 1130.8010785521801, 761.0805534509661, 2716.371411807723, 559.219888948529, 795.7692399618574, 4886.872279102602, 2111.7421153830155, 2909.229089305759, 864.5538573963604, 1626.1027935382479, 1679.2838097874308, 6349.054627641829, 1276.5835099004034, 4700.735330315122, 1542.4311999437632, 1807.9136271932512, 6055.560653763819, 5612.994416394641, 2097.3185855573283, 3264.4859881714297, 6389.3711132880135, 2916.3731226734035, 2083.254460580303, 3365.832489601491, 1240.1665917297576, 868.7726836661408, 860.1022815866115, 767.7085741048111, 681.5206063263014, 657.4258860656194, 521.6973191771851, 482.49664018128846, 477.5221018858019, 442.6096702368737, 384.21235331893996, 365.6300379852019, 363.9408393949885, 343.52753006898064, 342.07893981961206, 323.25216667850145, 319.81151109325117, 310.5761328837149, 308.84874516848623, 286.65646699344563, 282.58784660461936, 275.97110772934064, 270.19358535047996, 265.14219007048496, 251.769927616703, 250.9710286980541, 245.0151842115096, 242.56604030532873, 216.76851866212684, 863.7604969157998, 706.0387900059892, 540.4826985927612, 1060.2109859126183, 548.5186652187696, 721.9392279677635, 691.8624224915127, 1266.6900655285929, 2220.5967428372114, 631.1107422261566, 1032.940981180404, 2916.3731226734035, 6302.165165645243, 1204.6974611482772, 1418.147388256919, 691.8297245599246, 4355.791670984144, 903.7367805870194, 4886.872279102602, 2909.229089305759, 6349.054627641829, 1572.5303303819658, 5612.994416394641, 3320.429631913425, 2092.6847973165077, 6055.560653763819, 2716.371411807723, 2005.1511127960373, 1788.736181417123, 6389.3711132880135, 1312.4798322153954, 949.4038104644625, 848.3833886915584, 729.0099004004193, 697.4712453787969, 563.6840926568267, 2596.956753019351, 534.4008791944236, 524.9046872826068, 517.3538051957875, 455.81542121447524, 391.40849714679064, 366.84910987197753, 317.6660570786872, 291.3187031162296, 285.11451617762435, 260.4343631571224, 248.93555341023455, 234.42485429368517, 230.25445537793038, 222.35807024764037, 218.46582184220782, 211.82809249248228, 206.5995570463719, 201.40237577052244, 199.10778532328186, 198.28188651341551, 198.1413877619395, 717.6766225641616, 188.84789572504764, 1399.9322729656774, 376.1252776679445, 1536.870489967319, 552.5223288385988, 350.7992699123973, 1139.4310106949792, 456.56845491764693, 283.08279746383363, 753.4432605133544, 782.1310631172254, 543.2992183703177, 425.1554455612979, 894.3506680775251, 2023.8722278952512, 1200.7900156696262, 1026.692755525483, 2024.725560568671, 742.7979574781422, 1452.2261398754633, 2007.238682234835, 662.0928261080794, 3586.757344010703, 1751.0854562154873, 2295.5122268657055, 865.9350406318011, 4968.9280343427445, 1938.8816993831365, 1301.1012772653407, 2070.6595913048595, 966.8525763759261, 2305.3572260336005, 2235.371653247786, 1589.0399880765133, 1481.7986736004127, 60760.67613107682, 1132.4859636502547, 1091.5587625495164, 941.8709049588355, 825.2685832119822, 667.3470239476616, 536.4798839970726, 514.6908773861397, 510.6735587080786, 451.20109551109823, 442.70523297478206, 435.4906846965546, 428.99197615302774, 423.90001201955425, 346.66612871782206, 281.13904778004473, 280.49923398210984, 250.4818659607675, 241.45620891982188, 232.12586588629452, 231.56279108994255, 230.1045248822399, 224.4807193344681, 221.17441141244473, 215.6211100634134, 214.54564501799328, 205.79734478184827, 202.45146120279117, 201.2084404894504, 199.9736945100429, 4513.455109210885, 368.86396732912544, 829.3679228085424, 405.50828080285044, 268.2472377526546, 359.36182337850005, 590.7430004301707, 827.133694532031, 592.9641856152424, 518.5341982217079, 513.4903139635989, 479.99893503851507, 479.03775828010777, 421.19502956779155, 418.74899150861705, 388.2208917391037, 369.27425217165614, 362.2645120155463, 343.5701450956608, 331.0723686688603, 317.65659313937186, 299.9735115059071, 298.9713422212595, 298.4622168771117, 289.94220045242, 276.76412829354007, 256.73123970260315, 243.45335903520942, 214.52997713509794, 181.35970549044245, 172.69785829156947, 172.1436307212451, 171.71599746206036, 170.39127629695457, 168.29176014792233, 212.18612436017486, 162.11511321467293, 1255.95011207207, 1066.9382292359699, 451.6995276851414, 608.3032919987094, 1692.9900181935147, 720.8643039678855, 809.6681385646705, 1710.453362388925, 305.1456864355879, 929.7868772369305, 581.3542648410169, 1010.6843968794394, 2235.371653247786, 677.0301530160377, 619.9006961306268, 1115.7097424687386, 601.5215975426979, 434.6222469789207, 575.504184115554, 942.387862340508, 1928.3204406712143, 1751.0854562154873, 1302.7077346538008, 1821.628485563517, 1324.5800174289936, 4355.791670984144, 4968.9280343427445, 5612.994416394641, 2479.369589485183, 2565.7508944095152, 2655.720420452705, 6389.3711132880135, 925.1194346895611, 778.2532269998393, 655.1658602119242, 500.6293988275228, 455.61950170887457, 423.3872837230661, 372.0224937374863, 355.2354850853373, 354.70391839315846, 337.93260853024066, 323.5627281530858, 313.92861933823883, 313.23541845356965, 260.4887396288036, 242.61004741974034, 239.72097417803687, 233.9696186957032, 214.74106695077091, 210.41692119683023, 208.62671987660866, 205.6916309810315, 197.13811193527837, 192.71315815983235, 184.75707177255285, 179.0088832797001, 176.77003635354797, 176.08244230143356, 169.2697975732763, 165.2955114835819, 162.87214312861965, 307.1298250743062, 909.0166867100036, 804.401969636688, 868.4507470482539, 574.8192689145673, 461.29681926760765, 621.0650488163353, 778.8636930767207, 447.2984018185225, 1048.2722216929797, 1050.5533180816435, 625.2908823664727, 1053.0925437654785, 6302.165165645243, 2716.371411807723, 1638.5286122214977, 1913.6044991170354, 3989.926255848595, 647.9127862259966, 535.7516501597032, 346.30152900152393, 328.51833307582933, 308.114224668998, 273.80031046867543, 268.3767982591494, 244.38068035450937, 245.43969237323586, 241.623834706083, 240.0873955467688, 229.67615820434318, 216.0727101217358, 214.8946790990886, 204.74532378581102, 178.40605251759314, 169.59097107579697, 169.04424311407033, 166.9800613064045, 164.76099831277784, 156.73356137754845, 152.29381797856146, 141.37824374227705, 137.1840151859255, 125.88599332918636, 125.71435407211031, 125.40417071176415, 123.46941580393347, 122.86796075714469, 115.9199543415374, 272.9293735979966, 230.64700633475846, 364.22870349702487, 461.2498154396332, 333.7553095725551, 1732.549334084498, 412.4085597100862, 550.7877243166909, 540.7302132365679, 331.731588892305, 1468.469779564526, 945.2299569784918, 300.50071049012536, 510.9643880324061, 304.95959136329105, 2664.2713549226696, 535.3385744347224, 1330.1698809421096, 626.9350866895104, 764.328513153144, 1317.0608030969254, 600.8288744180131, 1560.6784145440731, 650.201769296389, 958.4321401912142, 1032.8782466644377, 1670.088727783331, 1437.350120635154, 919.6274698309326, 750.1903113415835, 612.3020491187858, 630.8483749029549, 1100.3288020804332, 1227.3674693973808, 1262.768770309794, 533.4546234438657, 1053.0925437654785, 503.5557952148553, 313.3042945300435, 214.76641929185078, 185.10046820621864, 152.0513677664684, 146.52183227385095, 170.3973746936416, 128.4970213917986, 122.27677896819996, 121.29657517178036, 119.51174735550751, 117.30092554077603, 112.8893146290344, 108.27616414779881, 107.14938140705321, 101.41920352030428, 99.40497796293167, 98.43878895791222, 95.87256325322937, 96.70743508733355, 96.58427955339025, 93.06158625547509, 92.46627239740481, 87.78427856337372, 87.15349159604965, 86.9950410753878, 86.92655728544345, 85.91068829256713, 85.3054290036696, 80.46621161745222, 1836.274531607264, 301.2864675230314, 182.16630139944849, 258.2669652179005, 722.9505011481785, 364.1129576339348, 286.3030573046845, 141.2681976436428, 231.11031691440647, 282.8850414730279, 388.9092011183126, 287.2564162755417, 162.0028176907893, 671.6364006408338, 154.5551346554723, 1107.2890936794067, 211.56403913654, 3586.757344010703, 2070.6595913048595, 664.0604592446839, 1050.5533180816435, 1807.9136271932512, 323.7796203742043, 733.8479974229022, 284.6227042311533, 776.373622534315, 692.3239737334256, 1262.768770309794, 586.839716518504, 1670.088727783331, 2664.2713549226696, 3989.926255848595, 475.01872116553193, 853.0722405666487, 1560.6784145440731, 415.328958384814, 1204.6974611482772, 1430.0693366185753, 890.5311764856978, 578.6311524890951, 554.6440363690015, 504.1233273229833, 352.0375946393124, 340.73470013604305, 308.6033831301026, 249.87591506924193, 240.62537226254477, 235.99864947195968, 211.96602701379751, 197.37898182346032, 193.77514098731575, 166.75408502161113, 163.98914079081047, 163.92420150032353, 151.1496790530876, 150.32406843720332, 147.8966062346445, 146.0705940016172, 141.72786607253735, 138.71820167180093, 137.16499508984631, 136.51744437115937, 134.93730888307982, 134.11536234042333, 484.0595313241575, 131.8848995721099, 130.38729364087948, 427.82655615102726, 1117.5740858503564, 208.41160931762798, 334.7501522158667, 326.9741785984735, 275.22622742755203, 303.0054469038889, 794.9086058036489, 360.8208692677986, 287.24991159043867, 698.4402412245797, 2097.3185855573283, 395.6693461655201, 486.7996775504373, 423.1575493570808, 679.4319409406617, 1058.2095907694516, 601.23218836127, 541.9460053192181, 4886.872279102602, 3818.8401939920614, 1398.4329287348764, 1489.9782322737758, 1752.7628363587953], \"Category\": [\"Default\", \"Default\", \"Default\", \"Default\", \"Default\", \"Default\", \"Default\", \"Default\", \"Default\", \"Default\", \"Default\", \"Default\", \"Default\", \"Default\", \"Default\", \"Default\", \"Default\", \"Default\", \"Default\", \"Default\", \"Default\", \"Default\", \"Default\", \"Default\", \"Default\", \"Default\", \"Default\", \"Default\", \"Default\", \"Default\", \"Topic1\", \"Topic1\", \"Topic1\", \"Topic1\", \"Topic1\", \"Topic1\", \"Topic1\", \"Topic1\", \"Topic1\", \"Topic1\", \"Topic1\", \"Topic1\", \"Topic1\", \"Topic1\", \"Topic1\", \"Topic1\", \"Topic1\", \"Topic1\", \"Topic1\", \"Topic1\", \"Topic1\", \"Topic1\", \"Topic1\", \"Topic1\", \"Topic1\", \"Topic1\", \"Topic1\", \"Topic1\", \"Topic1\", \"Topic1\", \"Topic1\", \"Topic1\", \"Topic1\", \"Topic1\", \"Topic1\", \"Topic1\", \"Topic1\", \"Topic1\", \"Topic1\", \"Topic1\", \"Topic1\", \"Topic1\", \"Topic1\", \"Topic1\", \"Topic1\", \"Topic1\", \"Topic1\", \"Topic1\", \"Topic1\", \"Topic1\", \"Topic1\", \"Topic1\", \"Topic1\", \"Topic1\", \"Topic1\", \"Topic1\", \"Topic1\", \"Topic1\", \"Topic1\", \"Topic1\", \"Topic1\", \"Topic1\", \"Topic1\", \"Topic1\", \"Topic1\", \"Topic1\", \"Topic1\", \"Topic1\", \"Topic1\", \"Topic1\", \"Topic1\", \"Topic1\", \"Topic1\", \"Topic1\", \"Topic1\", \"Topic1\", \"Topic1\", \"Topic1\", \"Topic1\", \"Topic2\", \"Topic2\", \"Topic2\", \"Topic2\", \"Topic2\", \"Topic2\", \"Topic2\", \"Topic2\", \"Topic2\", \"Topic2\", \"Topic2\", \"Topic2\", \"Topic2\", \"Topic2\", \"Topic2\", \"Topic2\", \"Topic2\", \"Topic2\", \"Topic2\", \"Topic2\", \"Topic2\", \"Topic2\", \"Topic2\", \"Topic2\", \"Topic2\", \"Topic2\", \"Topic2\", \"Topic2\", \"Topic2\", \"Topic2\", \"Topic2\", \"Topic2\", \"Topic2\", \"Topic2\", \"Topic2\", \"Topic2\", \"Topic2\", \"Topic2\", \"Topic2\", \"Topic2\", \"Topic2\", \"Topic2\", \"Topic2\", \"Topic2\", \"Topic2\", \"Topic2\", \"Topic2\", \"Topic2\", \"Topic2\", \"Topic2\", \"Topic2\", \"Topic2\", \"Topic2\", \"Topic2\", \"Topic2\", \"Topic2\", \"Topic2\", \"Topic2\", \"Topic2\", \"Topic2\", \"Topic2\", \"Topic2\", \"Topic2\", \"Topic2\", \"Topic2\", \"Topic2\", \"Topic2\", \"Topic2\", \"Topic2\", \"Topic2\", \"Topic2\", \"Topic2\", \"Topic2\", \"Topic2\", \"Topic3\", \"Topic3\", \"Topic3\", \"Topic3\", \"Topic3\", \"Topic3\", \"Topic3\", \"Topic3\", \"Topic3\", \"Topic3\", \"Topic3\", \"Topic3\", \"Topic3\", \"Topic3\", \"Topic3\", \"Topic3\", \"Topic3\", \"Topic3\", \"Topic3\", \"Topic3\", \"Topic3\", \"Topic3\", \"Topic3\", \"Topic3\", \"Topic3\", \"Topic3\", \"Topic3\", \"Topic3\", \"Topic3\", \"Topic3\", \"Topic3\", \"Topic3\", \"Topic3\", \"Topic3\", \"Topic3\", \"Topic3\", \"Topic3\", \"Topic3\", \"Topic3\", \"Topic3\", \"Topic3\", \"Topic3\", \"Topic3\", \"Topic3\", \"Topic3\", \"Topic3\", \"Topic3\", \"Topic3\", \"Topic3\", \"Topic3\", \"Topic3\", \"Topic3\", \"Topic3\", \"Topic3\", \"Topic3\", \"Topic3\", \"Topic3\", \"Topic3\", \"Topic3\", \"Topic3\", \"Topic4\", \"Topic4\", \"Topic4\", \"Topic4\", \"Topic4\", \"Topic4\", \"Topic4\", \"Topic4\", \"Topic4\", \"Topic4\", \"Topic4\", \"Topic4\", \"Topic4\", \"Topic4\", \"Topic4\", \"Topic4\", \"Topic4\", \"Topic4\", \"Topic4\", \"Topic4\", \"Topic4\", \"Topic4\", \"Topic4\", \"Topic4\", \"Topic4\", \"Topic4\", \"Topic4\", \"Topic4\", \"Topic4\", \"Topic4\", \"Topic4\", \"Topic4\", \"Topic4\", \"Topic4\", \"Topic4\", \"Topic4\", \"Topic4\", \"Topic4\", \"Topic4\", \"Topic4\", \"Topic4\", \"Topic4\", \"Topic4\", \"Topic4\", \"Topic4\", \"Topic4\", \"Topic4\", \"Topic4\", \"Topic4\", \"Topic4\", \"Topic4\", \"Topic4\", \"Topic4\", \"Topic4\", \"Topic4\", \"Topic4\", \"Topic4\", \"Topic4\", \"Topic4\", \"Topic4\", \"Topic4\", \"Topic4\", \"Topic4\", \"Topic4\", \"Topic5\", \"Topic5\", \"Topic5\", \"Topic5\", \"Topic5\", \"Topic5\", \"Topic5\", \"Topic5\", \"Topic5\", \"Topic5\", \"Topic5\", \"Topic5\", \"Topic5\", \"Topic5\", \"Topic5\", \"Topic5\", \"Topic5\", \"Topic5\", \"Topic5\", \"Topic5\", \"Topic5\", \"Topic5\", \"Topic5\", \"Topic5\", \"Topic5\", \"Topic5\", \"Topic5\", \"Topic5\", \"Topic5\", \"Topic5\", \"Topic5\", \"Topic5\", \"Topic5\", \"Topic5\", \"Topic5\", \"Topic5\", \"Topic5\", \"Topic6\", \"Topic6\", \"Topic6\", \"Topic6\", \"Topic6\", \"Topic6\", \"Topic6\", \"Topic6\", \"Topic6\", \"Topic6\", \"Topic6\", \"Topic6\", \"Topic6\", \"Topic6\", \"Topic6\", \"Topic6\", \"Topic6\", \"Topic6\", \"Topic6\", \"Topic6\", \"Topic6\", \"Topic6\", \"Topic6\", \"Topic6\", \"Topic6\", \"Topic6\", \"Topic6\", \"Topic6\", \"Topic6\", \"Topic6\", \"Topic6\", \"Topic6\", \"Topic6\", \"Topic6\", \"Topic6\", \"Topic6\", \"Topic6\", \"Topic6\", \"Topic6\", \"Topic6\", \"Topic6\", \"Topic6\", \"Topic6\", \"Topic6\", \"Topic6\", \"Topic6\", \"Topic6\", \"Topic6\", \"Topic6\", \"Topic6\", \"Topic6\", \"Topic6\", \"Topic6\", \"Topic6\", \"Topic6\", \"Topic6\", \"Topic6\", \"Topic6\", \"Topic6\", \"Topic6\", \"Topic6\", \"Topic6\", \"Topic7\", \"Topic7\", \"Topic7\", \"Topic7\", \"Topic7\", \"Topic7\", \"Topic7\", \"Topic7\", \"Topic7\", \"Topic7\", \"Topic7\", \"Topic7\", \"Topic7\", \"Topic7\", \"Topic7\", \"Topic7\", \"Topic7\", \"Topic7\", \"Topic7\", \"Topic7\", \"Topic7\", \"Topic7\", \"Topic7\", \"Topic7\", \"Topic7\", \"Topic7\", \"Topic7\", \"Topic7\", \"Topic7\", \"Topic7\", \"Topic7\", \"Topic7\", \"Topic7\", \"Topic7\", \"Topic7\", \"Topic7\", \"Topic7\", \"Topic7\", \"Topic7\", \"Topic7\", \"Topic7\", \"Topic7\", \"Topic7\", \"Topic7\", \"Topic7\", \"Topic7\", \"Topic7\", \"Topic7\", \"Topic8\", \"Topic8\", \"Topic8\", \"Topic8\", \"Topic8\", \"Topic8\", \"Topic8\", \"Topic8\", \"Topic8\", \"Topic8\", \"Topic8\", \"Topic8\", \"Topic8\", \"Topic8\", \"Topic8\", \"Topic8\", \"Topic8\", \"Topic8\", \"Topic8\", \"Topic8\", \"Topic8\", \"Topic8\", \"Topic8\", \"Topic8\", \"Topic8\", \"Topic8\", \"Topic8\", \"Topic8\", \"Topic8\", \"Topic8\", \"Topic8\", \"Topic8\", \"Topic8\", \"Topic8\", \"Topic8\", \"Topic8\", \"Topic8\", \"Topic8\", \"Topic8\", \"Topic8\", \"Topic8\", \"Topic8\", \"Topic8\", \"Topic8\", \"Topic8\", \"Topic8\", \"Topic8\", \"Topic8\", \"Topic8\", \"Topic8\", \"Topic8\", \"Topic8\", \"Topic8\", \"Topic8\", \"Topic8\", \"Topic8\", \"Topic8\", \"Topic8\", \"Topic8\", \"Topic8\", \"Topic8\", \"Topic8\", \"Topic8\", \"Topic8\", \"Topic8\", \"Topic8\", \"Topic8\", \"Topic9\", \"Topic9\", \"Topic9\", \"Topic9\", \"Topic9\", \"Topic9\", \"Topic9\", \"Topic9\", \"Topic9\", \"Topic9\", \"Topic9\", \"Topic9\", \"Topic9\", \"Topic9\", \"Topic9\", \"Topic9\", \"Topic9\", \"Topic9\", \"Topic9\", \"Topic9\", \"Topic9\", \"Topic9\", \"Topic9\", \"Topic9\", \"Topic9\", \"Topic9\", \"Topic9\", \"Topic9\", \"Topic9\", \"Topic9\", \"Topic9\", \"Topic9\", \"Topic9\", \"Topic9\", \"Topic9\", \"Topic9\", \"Topic9\", \"Topic9\", \"Topic9\", \"Topic9\", \"Topic9\", \"Topic9\", \"Topic9\", \"Topic9\", \"Topic9\", \"Topic9\", \"Topic9\", \"Topic9\", \"Topic9\", \"Topic9\", \"Topic9\", \"Topic9\", \"Topic9\", \"Topic9\", \"Topic9\", \"Topic9\", \"Topic9\", \"Topic9\", \"Topic9\", \"Topic9\", \"Topic9\", \"Topic9\", \"Topic9\", \"Topic9\", \"Topic9\", \"Topic9\", \"Topic9\", \"Topic10\", \"Topic10\", \"Topic10\", \"Topic10\", \"Topic10\", \"Topic10\", \"Topic10\", \"Topic10\", \"Topic10\", \"Topic10\", \"Topic10\", \"Topic10\", \"Topic10\", \"Topic10\", \"Topic10\", \"Topic10\", \"Topic10\", \"Topic10\", \"Topic10\", \"Topic10\", \"Topic10\", \"Topic10\", \"Topic10\", \"Topic10\", \"Topic10\", \"Topic10\", \"Topic10\", \"Topic10\", \"Topic10\", \"Topic10\", \"Topic10\", \"Topic10\", \"Topic10\", \"Topic10\", \"Topic10\", \"Topic10\", \"Topic10\", \"Topic10\", \"Topic10\", \"Topic10\", \"Topic10\", \"Topic10\", \"Topic10\", \"Topic10\", \"Topic10\", \"Topic10\", \"Topic10\", \"Topic10\", \"Topic10\", \"Topic10\", \"Topic10\", \"Topic10\", \"Topic10\", \"Topic10\"], \"logprob\": [30.0, 29.0, 28.0, 27.0, 26.0, 25.0, 24.0, 23.0, 22.0, 21.0, 20.0, 19.0, 18.0, 17.0, 16.0, 15.0, 14.0, 13.0, 12.0, 11.0, 10.0, 9.0, 8.0, 7.0, 6.0, 5.0, 4.0, 3.0, 2.0, 1.0, -6.0586, -6.6649, -6.8224, -7.0323, -6.2832, -7.2511, -7.2657, -7.3017, -7.3434, -7.3574, -7.4147, -7.3906, -7.5241, -7.5314, -7.5527, -7.5919, -7.6015, -7.6422, -7.6581, -7.6776, -7.7127, -7.7148, -7.7354, -7.7799, -7.8088, -7.8348, -7.8475, -7.854, -7.8706, -7.8875, -7.5141, -7.3849, -7.3358, -5.7445, -7.3219, -6.3057, -7.3876, -7.0856, -6.619, -7.0421, -6.1284, -4.4989, -6.5771, -5.1448, -4.5857, -6.1293, -6.4542, -5.8148, -6.7251, -5.6085, -5.4515, -5.042, -5.6565, -5.787, -5.4293, -4.7709, -4.6912, -6.1543, -5.4437, -5.3929, -6.5386, -6.1288, -4.9862, -5.0673, -5.3391, -5.8112, -5.5075, -5.7529, -5.3811, -5.4487, -5.2227, -5.9054, -5.7556, -5.8911, -5.471, -5.4777, -5.9058, -5.8903, -5.883, -5.832, -6.2716, -6.3935, -6.5109, -6.5064, -6.6325, -6.6917, -6.6653, -6.794, -6.7506, -6.8471, -6.8707, -6.8796, -6.9008, -6.9729, -6.9883, -7.0099, -7.0357, -7.0428, -7.1462, -7.1842, -7.1977, -7.2071, -7.2083, -7.2552, -7.2741, -7.0504, -7.2881, -7.1927, -7.359, -5.8091, -6.9578, -6.69, -7.1291, -6.7841, -6.1731, -7.0228, -6.7154, -6.8363, -6.7189, -5.3362, -6.4025, -5.7764, -6.1375, -5.7554, -6.658, -5.847, -6.7111, -5.6195, -4.9286, -5.4758, -6.0942, -6.3562, -5.5838, -6.5594, -6.3551, -5.3247, -5.823, -5.6778, -6.3314, -6.0271, -6.0189, -5.416, -6.1622, -5.5984, -6.1091, -6.0459, -5.7856, -5.8381, -6.1127, -6.0769, -5.9584, -6.1294, -6.248, -4.213, -5.2119, -5.5681, -5.5782, -5.6919, -5.8111, -5.8472, -6.0788, -6.157, -6.1674, -6.2435, -6.3853, -6.435, -6.4396, -6.4975, -6.5017, -6.5585, -6.5692, -6.5986, -6.6042, -6.679, -6.6933, -6.7171, -6.7383, -6.7573, -6.8092, -6.8124, -6.8365, -6.8466, -6.9594, -5.5795, -5.7868, -6.093, -5.4953, -6.1571, -5.9478, -6.0196, -5.5646, -5.1473, -6.0955, -5.7571, -5.0927, -4.6394, -5.718, -5.6171, -6.0743, -5.1767, -5.9932, -5.2213, -5.5721, -5.3263, -5.8038, -5.4651, -5.6208, -5.7629, -5.5106, -5.7127, -5.8292, -5.8668, -5.7647, -5.0554, -5.3795, -5.4921, -5.6439, -5.6882, -5.9015, -4.3739, -5.9549, -5.9729, -5.9874, -6.1143, -6.2669, -6.3319, -6.4762, -6.563, -6.5846, -6.6754, -6.7208, -6.781, -6.7991, -6.8341, -6.8518, -6.8828, -6.9079, -6.9335, -6.945, -6.9492, -6.9499, -5.6629, -6.9981, -5.0063, -6.3104, -4.9354, -5.9405, -6.3962, -5.2701, -6.1488, -6.6084, -5.7111, -5.7041, -6.0296, -6.2492, -5.6057, -4.9056, -5.3636, -5.4985, -4.9582, -5.7982, -5.3271, -5.1376, -5.9234, -4.8111, -5.3002, -5.3279, -5.8218, -5.1237, -5.5038, -5.6689, -5.5811, -5.8092, -5.6354, -5.6498, -5.7454, -5.7605, -0.8927, -4.8759, -4.9128, -5.0604, -5.1927, -5.4053, -5.6239, -5.6655, -5.6733, -5.7974, -5.8164, -5.8329, -5.848, -5.8599, -6.0615, -6.2716, -6.2739, -6.3875, -6.4243, -6.4638, -6.4663, -6.4726, -6.4975, -6.5124, -6.5379, -6.5429, -6.5847, -6.6012, -6.6074, -6.6136, -3.5009, -6.0048, -5.2264, -5.9212, -6.3412, -6.344, -6.4821, -5.0979, -5.4311, -5.5655, -5.5753, -5.6428, -5.6448, -5.7738, -5.7796, -5.8555, -5.9056, -5.9248, -5.978, -6.0151, -6.0566, -6.114, -6.1174, -6.1191, -6.1482, -6.1948, -6.2702, -6.3235, -6.4505, -6.6192, -6.6684, -6.6716, -6.6741, -6.6819, -6.6944, -6.4627, -6.7319, -4.7059, -4.8693, -5.721, -5.4413, -4.4617, -5.29, -5.1805, -4.4743, -6.1242, -5.1229, -5.5574, -5.1009, -4.4946, -5.4903, -5.5618, -5.1178, -5.6072, -5.8492, -5.7072, -5.4859, -5.1485, -5.2774, -5.4088, -5.3029, -5.4332, -5.2493, -5.2577, -5.4626, -5.5628, -5.5625, -5.5717, -5.5619, -4.8355, -5.0085, -5.1809, -5.4503, -5.5447, -5.6182, -5.7479, -5.7941, -5.7956, -5.8442, -5.8878, -5.9181, -5.9203, -6.1053, -6.1766, -6.1886, -6.213, -6.2991, -6.3195, -6.3281, -6.3424, -6.385, -6.4078, -6.4502, -6.4819, -6.4946, -6.4985, -6.5382, -6.5621, -6.5769, -5.9589, -4.9311, -5.0967, -5.0981, -5.5307, -5.7629, -5.6392, -5.5819, -5.9348, -5.5689, -5.5846, -5.8293, -5.6075, -5.0832, -5.4234, -5.6447, -5.7831, -5.9346, -5.1865, -5.3769, -5.8141, -5.867, -5.9313, -6.0497, -6.0698, -6.1638, -6.1595, -6.1752, -6.1816, -6.2261, -6.2874, -6.2929, -6.3415, -6.4798, -6.5307, -6.534, -6.5463, -6.5598, -6.61, -6.6389, -6.7137, -6.744, -6.8306, -6.8319, -6.8344, -6.8501, -6.855, -6.9136, -6.065, -6.2351, -5.8042, -5.6026, -5.9166, -4.4093, -5.7311, -5.4686, -5.5189, -5.9581, -4.6882, -5.0824, -6.0478, -5.6024, -6.0363, -4.2727, -5.5781, -4.8584, -5.4678, -5.3421, -4.9426, -5.529, -4.8527, -5.4799, -5.2135, -5.1681, -4.8393, -4.9819, -5.2905, -5.4235, -5.5559, -5.5444, -5.3399, -5.3275, -5.3291, -5.6836, -5.5876, -5.2777, -5.7533, -6.1322, -6.2816, -6.4793, -6.5165, -6.3664, -6.6487, -6.6986, -6.7067, -6.7217, -6.7405, -6.7791, -6.8212, -6.8317, -6.8872, -6.9074, -6.9173, -6.9439, -6.9353, -6.9366, -6.9739, -6.9804, -7.0329, -7.0402, -7.042, -7.0428, -7.0547, -7.0619, -7.1209, -3.9994, -5.8142, -6.3292, -5.9952, -5.0581, -5.7122, -5.9382, -6.5966, -6.1557, -5.9851, -5.7071, -5.9957, -6.5036, -5.3479, -6.5512, -5.0095, -6.3039, -4.1384, -4.7219, -5.52, -5.3024, -5.0275, -6.1192, -5.6481, -6.1947, -5.7041, -5.7858, -5.6026, -5.9229, -5.5822, -5.4471, -5.533, -6.0704, -5.9454, -5.9393, -6.1086, -6.1014, -4.0757, -4.5498, -4.9815, -5.0239, -5.1195, -5.4794, -5.5121, -5.6114, -5.8232, -5.861, -5.8805, -5.9884, -6.06, -6.0785, -6.2294, -6.2462, -6.2466, -6.3282, -6.3337, -6.3501, -6.3626, -6.393, -6.4146, -6.4259, -6.4307, -6.4424, -6.4485, -5.1651, -6.4654, -6.4769, -5.3068, -4.3844, -6.0175, -5.6065, -5.6359, -5.8024, -5.7193, -4.882, -5.5838, -5.8667, -5.2393, -4.5279, -5.6865, -5.6417, -5.723, -5.4696, -5.5356, -5.7549, -5.8131, -5.4847, -5.6289, -5.7718, -5.7859, -5.8014], \"loglift\": [30.0, 29.0, 28.0, 27.0, 26.0, 25.0, 24.0, 23.0, 22.0, 21.0, 20.0, 19.0, 18.0, 17.0, 16.0, 15.0, 14.0, 13.0, 12.0, 11.0, 10.0, 9.0, 8.0, 7.0, 6.0, 5.0, 4.0, 3.0, 2.0, 1.0, 1.6041, 1.604, 1.6033, 1.6032, 1.6027, 1.6025, 1.6025, 1.6023, 1.6022, 1.6021, 1.6019, 1.6018, 1.6015, 1.6014, 1.6013, 1.6012, 1.6011, 1.6009, 1.6008, 1.6007, 1.6005, 1.6005, 1.6004, 1.6002, 1.6, 1.5998, 1.5998, 1.5997, 1.5996, 1.5995, 1.5978, 1.5917, 1.5902, 1.5193, 1.5796, 1.5254, 1.5763, 1.5548, 1.5004, 1.5371, 1.4448, 1.1527, 1.4496, 1.2341, 1.1196, 1.3683, 1.4221, 1.3048, 1.4643, 1.2551, 1.2158, 1.1242, 1.2312, 1.2564, 1.1689, 1.0103, 0.9667, 1.3217, 1.1203, 1.0849, 1.3978, 1.2749, 0.9168, 0.8912, 0.967, 1.1478, 1.022, 1.1137, 0.942, 0.971, 0.812, 1.1586, 1.0167, 1.1164, 0.6514, 0.4419, 0.9381, 0.7849, -0.2176, 1.7283, 1.7278, 1.7276, 1.7274, 1.7274, 1.7272, 1.7271, 1.727, 1.7268, 1.7267, 1.7267, 1.7266, 1.7266, 1.7266, 1.7264, 1.7263, 1.7262, 1.7262, 1.7261, 1.7258, 1.7257, 1.7256, 1.7256, 1.7256, 1.7254, 1.7253, 1.7253, 1.7253, 1.7251, 1.725, 1.7201, 1.7243, 1.7187, 1.7232, 1.7127, 1.6768, 1.7153, 1.6915, 1.6983, 1.6877, 1.521, 1.6098, 1.4814, 1.5254, 1.3732, 1.6067, 1.321, 1.6148, 1.108, 0.7367, 0.9648, 1.2891, 1.4231, 0.9231, 1.5281, 1.3795, 0.5949, 0.9357, 0.7605, 1.3204, 0.9929, 0.969, 0.2419, 1.0998, 0.3601, 0.9638, 0.8682, -0.0804, -0.057, 0.6529, 0.2462, -0.3068, 0.3065, 0.5242, 2.0795, 2.0791, 2.0788, 2.0788, 2.0786, 2.0785, 2.0784, 2.0781, 2.078, 2.0779, 2.0778, 2.0775, 2.0774, 2.0774, 2.0772, 2.0772, 2.0771, 2.077, 2.0769, 2.0769, 2.0767, 2.0767, 2.0766, 2.0765, 2.0765, 2.0763, 2.0763, 2.0762, 2.0761, 2.0757, 2.0731, 2.0675, 2.0285, 1.9524, 1.9496, 1.8842, 1.855, 1.7052, 1.5611, 1.8709, 1.7167, 1.3432, 1.0259, 1.602, 1.5398, 1.8004, 0.858, 1.6142, 0.6983, 0.8662, 0.3317, 1.2498, 0.316, 0.6854, 1.0048, 0.1947, 0.7942, 0.9813, 1.0579, -0.1131, 2.1789, 2.1786, 2.1785, 2.1783, 2.1783, 2.178, 2.1779, 2.1779, 2.1779, 2.1779, 2.1776, 2.1773, 2.1772, 2.1768, 2.1765, 2.1765, 2.1762, 2.176, 2.1758, 2.1757, 2.1756, 2.1755, 2.1754, 2.1753, 2.1752, 2.1751, 2.1751, 2.1751, 2.175, 2.1749, 2.1635, 2.1736, 2.141, 2.159, 2.1575, 2.1056, 2.1415, 2.1598, 2.0782, 2.0479, 2.0867, 2.1123, 2.0122, 1.8956, 1.9596, 1.9814, 1.8425, 2.0054, 1.806, 1.6719, 1.9952, 1.4178, 1.6458, 1.3473, 1.8283, 0.7793, 1.3403, 1.5741, 1.1973, 1.7307, 1.0355, 1.052, 1.2977, 1.3524, 2.5066, 2.5059, 2.5058, 2.5057, 2.5056, 2.5053, 2.505, 2.5049, 2.5049, 2.5047, 2.5046, 2.5046, 2.5046, 2.5046, 2.5041, 2.5035, 2.5035, 2.5031, 2.503, 2.5028, 2.5028, 2.5028, 2.5027, 2.5027, 2.5026, 2.5025, 2.5024, 2.5023, 2.5023, 2.5022, 2.4982, 2.4988, 2.4669, 2.4876, 2.4808, 2.1857, 1.5505, 2.5981, 2.5977, 2.5975, 2.5975, 2.5973, 2.5973, 2.5971, 2.5971, 2.5969, 2.5968, 2.5967, 2.5966, 2.5965, 2.5964, 2.5962, 2.5962, 2.5962, 2.5961, 2.596, 2.5957, 2.5955, 2.5951, 2.5943, 2.5941, 2.594, 2.594, 2.594, 2.5939, 2.5939, 2.5937, 2.5725, 2.5721, 2.58, 2.562, 2.518, 2.5435, 2.5369, 2.4952, 2.569, 2.4562, 2.4912, 2.3947, 2.2072, 2.4059, 2.4226, 2.279, 2.4073, 2.4903, 2.3515, 2.0796, 1.701, 1.6686, 1.833, 1.6036, 1.7919, 0.7854, 0.6453, 0.3185, 1.0354, 1.0015, 0.9578, 0.0896, 2.7486, 2.7484, 2.7482, 2.7478, 2.7476, 2.7474, 2.7472, 2.747, 2.747, 2.7469, 2.7468, 2.7467, 2.7467, 2.7461, 2.7459, 2.7458, 2.7458, 2.7454, 2.7453, 2.7453, 2.7452, 2.745, 2.7449, 2.7447, 2.7446, 2.7445, 2.7445, 2.7443, 2.7442, 2.7441, 2.7278, 2.6705, 2.6272, 2.5492, 2.5292, 2.517, 2.3433, 2.1742, 2.376, 1.8902, 1.8723, 2.1464, 1.847, 0.5821, 1.0836, 1.3677, 1.0742, 0.1879, 2.7537, 2.7534, 2.7525, 2.7524, 2.7522, 2.7518, 2.7518, 2.7515, 2.7514, 2.7514, 2.7514, 2.7512, 2.751, 2.751, 2.7507, 2.7501, 2.7499, 2.7498, 2.7498, 2.7497, 2.7494, 2.7493, 2.7488, 2.7486, 2.748, 2.748, 2.748, 2.7479, 2.7479, 2.7474, 2.7398, 2.7379, 2.712, 2.6774, 2.687, 2.5473, 2.6608, 2.634, 2.6022, 2.6515, 2.4338, 2.4801, 2.6608, 2.5753, 2.6575, 2.2536, 2.553, 2.3625, 2.5053, 2.4328, 2.2882, 2.4867, 2.2084, 2.4567, 2.3352, 2.3057, 2.154, 2.1615, 2.2995, 2.3701, 2.4409, 2.4225, 2.0707, 1.9738, 1.9438, 2.451, 1.8669, 2.9146, 2.9135, 2.9122, 2.9115, 2.9105, 2.9103, 2.9095, 2.9094, 2.9091, 2.909, 2.9089, 2.9087, 2.9084, 2.9081, 2.908, 2.9076, 2.9074, 2.9073, 2.907, 2.907, 2.907, 2.9068, 2.9067, 2.9062, 2.9061, 2.9061, 2.9061, 2.906, 2.9059, 2.9053, 2.899, 2.8917, 2.8798, 2.8648, 2.7725, 2.8043, 2.8187, 2.8667, 2.8153, 2.7839, 2.7435, 2.7579, 2.8228, 2.5564, 2.8223, 2.3948, 2.7555, 2.0905, 2.0564, 2.3956, 2.1545, 1.8866, 2.5147, 2.1675, 2.5681, 2.0552, 2.0881, 1.6703, 2.1163, 1.4111, 1.0791, 0.5895, 2.1802, 1.7197, 1.1218, 2.2763, 1.2186, 3.0728, 3.0724, 3.0718, 3.0718, 3.0716, 3.0709, 3.0708, 3.0705, 3.0698, 3.0697, 3.0696, 3.0692, 3.0689, 3.0688, 3.068, 3.068, 3.068, 3.0675, 3.0675, 3.0674, 3.0673, 3.0671, 3.067, 3.0669, 3.0669, 3.0668, 3.0667, 3.0667, 3.0666, 3.0666, 3.0485, 3.0106, 3.057, 2.9941, 2.9882, 2.994, 2.9809, 2.8538, 2.9418, 2.8869, 2.6258, 2.2377, 2.7469, 2.5844, 2.6432, 2.4231, 1.914, 2.2601, 2.3057, 0.435, 0.5374, 1.3991, 1.3215, 1.1436]}, \"token.table\": {\"Topic\": [2, 8, 9, 1, 2, 7, 8, 10, 8, 9, 6, 9, 10, 6, 9, 10, 9, 4, 9, 10, 9, 10, 9, 10, 5, 5, 1, 2, 3, 4, 6, 7, 8, 9, 10, 3, 4, 5, 7, 8, 9, 10, 3, 4, 6, 7, 8, 9, 10, 3, 4, 7, 8, 9, 10, 3, 4, 5, 6, 8, 9, 10, 5, 8, 9, 9, 2, 3, 4, 6, 7, 8, 9, 10, 3, 4, 6, 7, 8, 9, 10, 2, 3, 5, 6, 7, 8, 9, 10, 3, 4, 5, 7, 8, 9, 10, 3, 4, 5, 7, 8, 9, 1, 2, 7, 8, 9, 10, 1, 2, 4, 8, 9, 10, 5, 5, 1, 2, 3, 4, 6, 7, 8, 9, 10, 1, 3, 4, 6, 7, 8, 9, 10, 3, 7, 8, 9, 10, 8, 9, 3, 4, 5, 6, 8, 9, 10, 4, 5, 6, 8, 9, 3, 8, 9, 10, 5, 8, 9, 3, 5, 7, 8, 9, 10, 5, 5, 1, 2, 4, 6, 7, 8, 9, 10, 4, 5, 8, 9, 5, 6, 8, 9, 5, 8, 9, 5, 8, 9, 10, 4, 8, 9, 5, 1, 2, 5, 6, 7, 8, 9, 8, 9, 5, 8, 9, 1, 2, 4, 6, 8, 9, 10, 8, 5, 8, 8, 8, 9, 5, 5, 5, 5, 4, 6, 8, 9, 10, 2, 4, 6, 8, 9, 10, 5, 9, 9, 9, 9, 5, 9, 7, 2, 7, 2, 2, 1, 2, 3, 5, 10, 2, 6, 8, 4, 4, 6, 1, 2, 4, 8, 9, 2, 7, 9, 10, 7, 7, 1, 4, 9, 1, 2, 3, 7, 7, 7, 9, 2, 4, 9, 3, 3, 3, 1, 3, 9, 9, 9, 1, 2, 4, 6, 9, 5, 7, 7, 5, 1, 8, 10, 10, 2, 8, 3, 3, 1, 2, 3, 6, 10, 1, 2, 3, 6, 8, 10, 1, 2, 3, 4, 6, 10, 5, 3, 2, 6, 1, 2, 3, 4, 6, 10, 5, 10, 1, 2, 4, 6, 10, 8, 7, 10, 10, 7, 2, 6, 1, 5, 4, 9, 2, 6, 3, 1, 2, 6, 9, 6, 2, 3, 7, 3, 2, 4, 7, 9, 8, 7, 9, 10, 2, 3, 7, 3, 3, 8, 3, 3, 3, 5, 1, 8, 1, 3, 2, 1, 6, 4, 4, 8, 2, 1, 2, 1, 2, 4, 1, 4, 6, 6, 1, 2, 3, 4, 6, 8, 9, 9, 4, 6, 6, 2, 1, 1, 4, 6, 9, 7, 9, 10, 2, 7, 4, 1, 2, 4, 6, 7, 8, 6, 8, 1, 8, 1, 3, 6, 10, 2, 3, 7, 6, 2, 7, 2, 1, 4, 6, 9, 5, 9, 5, 1, 2, 4, 6, 4, 1, 2, 3, 4, 6, 8, 10, 8, 1, 2, 1, 1, 8, 10, 1, 2, 3, 6, 7, 10, 1, 2, 3, 6, 10, 4, 3, 7, 8, 1, 6, 1, 4, 6, 4, 6, 3, 8, 1, 2, 3, 4, 6, 10, 1, 2, 3, 4, 6, 10, 1, 2, 3, 4, 6, 10, 2, 4, 6, 2, 4, 7, 9, 1, 6, 1, 6, 8, 6, 6, 1, 2, 3, 7, 2, 3, 4, 6, 7, 9, 9, 1, 4, 2, 1, 1, 2, 4, 2, 10, 3, 2, 3, 3, 1, 1, 2, 3, 7, 10, 3, 10, 1, 3, 4, 2, 6, 6, 3, 2, 2, 1, 4, 1, 4, 7, 2, 1, 6, 10, 4, 6, 4, 4, 5, 9, 10, 10, 6, 8, 3, 7, 1, 2, 6, 10, 4, 5, 5, 1, 5, 10, 9, 2, 3, 8, 10, 3, 1, 2, 3, 6, 10, 1, 2, 3, 6, 8, 10, 1, 2, 3, 4, 6, 8, 10, 1, 2, 7, 4, 6, 7, 3, 7, 2, 2, 8, 1, 2, 6, 8, 1, 8, 3, 1, 2, 3, 4, 6, 7, 8, 9, 1, 2, 3, 7, 10, 1, 2, 10, 8, 10, 3, 3, 3, 8, 2, 7, 9, 1, 2, 3, 4, 7, 6, 2, 1, 4, 4, 8, 1, 3, 4, 6, 7, 9, 1, 4, 4, 6, 7, 7, 3, 7, 7, 7, 3, 8, 3, 7, 3, 7, 1, 2, 1, 9, 4, 9, 1, 2, 3, 6, 7, 10, 8, 1, 2, 4, 1, 4, 2, 3, 7, 1, 2, 3, 6, 10, 2, 3, 7, 6, 10, 9, 10, 1, 2, 3, 4, 1, 2, 3, 7, 8, 1, 2, 3, 4, 6, 7, 10, 1, 2, 4, 7, 9, 5, 1, 2, 3, 4, 5, 6, 9, 10, 1, 2, 3, 4, 6, 7, 10, 3, 1, 2, 3, 6, 7, 10, 1, 3, 2, 5, 4, 6, 1, 4, 6, 9, 10, 1, 2, 3, 4, 6, 10, 1, 2, 3, 4, 7, 8, 9, 10, 2, 9, 5, 6, 1, 3, 6, 8, 10, 1, 7, 8, 6, 4, 6, 4, 6, 2, 4, 9, 1, 4, 6, 4, 6, 9, 1, 2, 6, 10, 3, 2, 3, 10, 6, 4, 1, 2, 3, 5, 7, 6, 9, 6, 7, 7, 5, 6, 10, 2, 4, 9, 7, 6, 1, 2, 3, 4, 6, 1, 2, 3, 4, 6, 7, 8, 9, 10, 10, 1, 2, 8, 8, 8, 8, 4, 7, 9, 4, 2, 7, 1, 2, 3, 8, 2, 6, 9, 10, 4, 6, 10, 1, 2, 3, 4, 6, 7, 1, 2, 3, 7, 8, 10, 9, 1, 2, 1, 1, 3, 7, 6, 8, 10, 9, 10, 10, 5, 9, 1, 2, 3, 6, 10, 1, 7, 8, 10, 8, 10, 10, 10, 10, 1, 2, 3, 4, 6, 8, 10, 2, 7, 7, 4, 6, 2, 7, 1, 2, 6, 7, 8, 9, 6, 1, 2, 3, 4, 6, 10, 9, 1, 2, 3, 4, 6, 9, 1, 4, 6, 6, 7, 1, 2, 4, 6, 7, 2, 7, 4, 1, 2, 3, 4, 7, 10, 1, 5, 8, 1, 2, 3, 6, 7, 6, 1, 10, 9, 1, 2, 3, 1, 2, 3, 6, 10, 8, 1, 3, 7, 3, 7, 1, 8, 1, 2, 3, 4, 7, 9, 1, 2, 3, 6, 7, 8, 10, 2, 7, 1, 2, 7, 10, 2, 1, 2, 3, 6, 7, 10, 9, 10, 2, 9, 1, 2, 3, 6, 10, 1, 10, 10, 3, 6, 10, 1, 2, 3, 6, 7, 8, 10, 1, 1, 2, 4, 6, 8, 9, 10, 1, 8, 9, 10, 4, 1, 2, 3, 4, 6, 7, 8, 3, 3, 4, 1, 6, 3, 5, 9, 1, 4, 6, 2, 9, 7, 8, 7, 2, 4, 9, 2, 9, 3, 1, 2, 3, 6, 1, 2, 3, 4, 6, 7, 1, 2, 3, 7, 10, 2, 8, 10, 1, 2, 3, 4, 6, 9, 9, 1, 2, 3, 4, 6, 9, 1, 2, 3, 6, 10, 1, 2, 9, 1, 4, 2, 4, 2, 8, 9, 10, 10, 1, 4, 6, 8, 1, 2, 3, 6, 8, 1, 2, 3, 6, 1, 2, 3, 6, 10, 1, 2, 3, 4, 6, 7, 8, 10, 8, 9, 10, 1, 2, 2, 7, 1, 2, 3, 6, 10, 2, 3, 1, 2, 4, 6, 10, 6, 7, 7, 7, 1, 4, 6, 7, 9, 4, 6, 6, 1, 1, 2, 3, 4, 6, 8, 1, 2, 3, 4, 6, 8, 1, 4, 6, 1, 2, 3, 4, 6, 4, 1, 2, 3, 4, 6, 8, 1, 1, 2, 3, 6, 10, 1, 2, 6, 1, 2, 3, 6, 7, 9, 10, 2, 9, 1, 3, 4, 6, 7, 6, 2, 6, 7, 7, 8, 1, 8, 5, 1, 1, 2, 3, 4, 6, 8, 2, 7, 8, 3, 8, 1, 2, 3, 4, 6, 7, 10, 2, 2, 7, 1, 3, 6, 4, 1, 4, 8, 10, 2, 4, 4, 6, 8, 4, 5, 9, 3, 7, 8, 1, 2, 3, 6, 10, 1, 2, 3, 4, 6, 1, 2, 3, 4, 1, 2, 3, 4, 6, 7, 1, 2, 3, 4, 6, 7, 9, 10, 4, 4, 9, 4, 1, 2, 6, 7, 8, 10, 1, 2, 3, 6, 7, 8, 10, 4, 6], \"Freq\": [0.007079551437562712, 0.009257874956812776, 0.9829684880615919, 0.0360841981314631, 0.10255508942626354, 0.4054724368982827, 0.4111699418664085, 0.043680871422297436, 0.09081286188407946, 0.9081286188407945, 0.038569414035120125, 0.8408132259656187, 0.11827953637436837, 0.010985601902202685, 0.8953265550295189, 0.09337761616872282, 0.998896258924757, 0.03829331348842212, 0.8528965276966745, 0.10791751983100778, 0.9043300307420062, 0.09086569686881402, 0.9135643571489224, 0.08641825000057374, 0.9982201948468006, 0.9991054948910717, 0.007131405727458821, 0.029276297196936214, 0.0007506742871009285, 0.06380731440357892, 0.06906203441328543, 0.014638148598468107, 0.6057941496904493, 0.15914294886539684, 0.049919840092211745, 0.02556064491245214, 0.0984836612803303, 0.017291024499599978, 0.022553510216869535, 0.6751017391582947, 0.11051220006266071, 0.050369506151008624, 0.05447847896721712, 0.07354594660574311, 0.036772973302871555, 0.022472372573977065, 0.7252447512510779, 0.05107357403176605, 0.036772973302871555, 0.027506534053481777, 0.0624186734290548, 0.0317383085232482, 0.7596035173230736, 0.0952149255697446, 0.02327475958371535, 0.06150057750525815, 0.0356855202808288, 0.1062972944535326, 0.08503783556282608, 0.6271540372758424, 0.07213030695061141, 0.012907528612214673, 0.960972781900061, 0.03617212478921183, 0.0024114749859474554, 0.9893995926389765, 0.01858166277546158, 0.038444819535437755, 0.027552120667063723, 0.1089269886837403, 0.028192867659321018, 0.5785945340083382, 0.16595347099463964, 0.0313966026206075, 0.020871741386672877, 0.06400667358579683, 0.3290777891965424, 0.008348696554669152, 0.5524054220339422, 0.010435870693336438, 0.01530594368356011, 0.0009681683230616829, 0.03194955466103554, 0.11230752547515523, 0.06680361429125613, 0.04453574286083742, 0.6380229248976491, 0.0513129211222692, 0.054217426091454246, 0.061558870498884845, 0.08242628422732039, 0.043821568829714636, 0.022954155101279093, 0.6573235324457195, 0.11581414619281725, 0.015650560296326655, 0.06541689749834284, 0.05495019389860798, 0.009158365649767996, 0.034016786699138275, 0.7248192242816386, 0.11251706369714967, 0.0460091558904375, 0.09372235459163193, 0.13291533923904167, 0.1073546970776875, 0.44986730203983333, 0.17040428107569444, 0.007224852159806641, 0.25196671907325663, 0.07947337375787306, 0.047864645558719, 0.5933409836241204, 0.018965236919492433, 0.9979815240057665, 0.9986576848036469, 0.022753282126774483, 0.034728693772445265, 0.013172952810237858, 0.013771723392521397, 0.09759960491221686, 0.018561888050789708, 0.5484738533717217, 0.22214388602719298, 0.029339758531893412, 0.0026659901757773324, 0.003998985263665999, 0.08664468071276331, 0.018661931230441325, 0.030658887021439322, 0.6798274948232198, 0.15862641545875128, 0.018661931230441325, 0.0338356507762308, 0.04767750791196158, 0.7413083488246929, 0.16456430150257706, 0.01230387300953847, 0.7783899966053136, 0.2201184826465846, 0.009997011783388642, 0.271736956657564, 0.06816144397764984, 0.13086997243708767, 0.5043946854346087, 0.007270554024282649, 0.007270554024282649, 0.013852419396000586, 0.03289949606550139, 0.13390672082800567, 0.8126752712320344, 0.006349025556500269, 0.05265186335802509, 0.886003769610905, 0.03631162990208627, 0.023602559436356075, 0.13555401312057033, 0.730031853793915, 0.13228765135862888, 0.021636776382613635, 0.023301143796660838, 0.011650571898330419, 0.7639446430476661, 0.17309421106090908, 0.006657469656188811, 0.9978768294549784, 0.998078471870656, 0.016295038363547065, 0.09288171867221828, 0.01955404603625648, 0.14095208184468214, 0.0366638363179809, 0.45789057801567257, 0.17843067008084038, 0.057032634272414735, 0.008672090190838259, 0.032520338215643464, 0.925745627871984, 0.032520338215643464, 0.009372868432034763, 0.2211996949960204, 0.7385820324443393, 0.03186775266891819, 0.3842618530134116, 0.5958597896948057, 0.018620618427962678, 0.9986810386075547, 0.9348165888344445, 0.02696586313945513, 0.035954484185940175, 0.03934947560217802, 0.9083170618169426, 0.049186844502722524, 0.998873260178007, 0.011961365184124259, 0.01957314302856697, 0.007611777844442711, 0.14244898537457074, 0.025010127203168905, 0.6339523547585858, 0.15875993789837653, 0.9013311062669671, 0.09646352976770216, 0.04658890814988622, 0.9084837089227812, 0.03993334984275961, 0.014254391162670323, 0.05939329651112635, 0.007919106201483513, 0.17342842581248893, 0.4442618579032251, 0.2874635551138515, 0.012670569922373622, 0.9950354206177566, 0.013006888958471172, 0.9841879311909852, 0.9985970175556544, 0.9954708345088571, 0.9939505729494285, 0.9951497611780756, 0.9984069920067509, 0.9959484540157656, 0.9977700274420892, 0.1283985236745049, 0.03328850613783461, 0.7164954654429162, 0.09986551841350381, 0.022192337425223068, 0.04905648053333027, 0.08993688097777215, 0.10765172117036365, 0.23165560251850403, 0.4728499651407112, 0.04769380051851554, 0.9946901117315299, 0.9964313820830188, 0.9895582875262685, 0.9942061194620587, 0.9930854435450843, 0.9990753457249287, 0.9949573786709943, 0.9980185947286995, 0.9887466128085893, 0.007397106828991941, 0.9975685365161691, 0.9968943261530155, 0.10574300754250199, 0.008348132174408052, 0.14191824696493688, 0.7262874991735006, 0.01391355362401342, 0.9953729041546383, 0.9967546751010783, 0.9967770552648275, 0.9992498530409831, 0.03452225275815959, 0.9633352436324532, 0.0942340368823852, 0.0013272399560899325, 0.903850410097244, 0.023233701989834297, 0.9758154835730404, 0.3142816717594181, 0.1867657475619493, 0.42247700138151295, 0.07470629902477972, 0.9972515271127455, 0.9966375346545078, 0.019712268561399772, 0.963710907446211, 0.015331764436644265, 0.07447187451478633, 0.11250006575637936, 0.8112680798206511, 0.9982608375312636, 0.9987899565747025, 0.998389692510919, 0.9885926481785857, 0.028314936176153615, 0.014157468088076807, 0.948550361901146, 0.9984643732370599, 0.9961309131851136, 0.9979197739333715, 0.006470182968874876, 0.08411237859537339, 0.9122957986113575, 0.9889095031878175, 0.9958369720657678, 0.11408953613205762, 0.11211395974881852, 0.7136769684451223, 0.05284666825164574, 0.006914517341336825, 0.9999888722259219, 0.9969924443177783, 0.9921624521322192, 0.999570887705585, 0.994263262446125, 0.014394591596036644, 0.9836304257291707, 0.997052602747228, 0.9956886350040682, 0.9943502884413511, 0.9986225555430196, 0.9981449544162797, 0.12293992634213875, 0.2431778762811536, 0.5953354674883056, 0.02431778762811536, 0.014410540816660952, 0.5000073047128316, 0.06644392371351722, 0.11678022955709087, 0.14161280710658722, 0.002013452233742946, 0.17315689210189336, 0.6113904654503887, 0.08598502663366121, 0.11763595668286167, 0.002637577504100037, 0.057499189589380814, 0.12502117369434176, 0.9973380040007711, 0.9991106031754128, 0.9987408769182384, 0.9984513387257254, 0.33157145092247164, 0.02525213036826771, 0.042269870399056816, 0.22781813267024129, 0.3694496464748732, 0.00329375613499144, 0.9975695961890356, 0.9926707082357361, 0.9925253882667009, 0.15361206518897308, 0.007385195441777552, 0.8241878113023747, 0.013293351795199592, 0.9974181574146366, 0.07951698238510808, 0.9175036429050932, 0.9930537455442218, 0.9981237590941548, 0.10148717153753874, 0.8979034498744952, 0.9954857255191158, 0.9980762441268185, 0.13278917415166644, 0.8658960731139915, 0.9987408973244536, 0.9925027144989816, 0.9972519066961946, 0.9172693443782048, 0.08238946206989864, 0.973764792283263, 0.025478719013135254, 0.9982113592538607, 0.9704614501886705, 0.025170469889619695, 0.0027967188766244108, 0.9976664486726328, 0.3957684702472859, 0.07655375519381807, 0.08955344947201359, 0.4362119635572275, 0.9958366623927619, 0.08250676763553301, 0.0033002707054213204, 0.9108747146962844, 0.1621716158093427, 0.41401459565443954, 0.42355410246675385, 0.9990770272357095, 0.9933309095097905, 0.0057886416638099686, 0.9968445748595346, 0.9992361106597969, 0.998718429644695, 0.9978585272895895, 0.9709206780590329, 0.02577665516970884, 0.17591508409579162, 0.8227839366370097, 0.996413110757512, 0.991317361490505, 0.0049814942788467586, 0.9983321588140028, 0.9960907333737536, 0.9902513731547727, 0.9968624693330254, 0.8992082386409687, 0.09786044486236414, 0.15291819208332105, 0.026298033033437376, 0.8201090301538619, 0.011377122292243903, 0.638153132210408, 0.34958793952531264, 0.9967510524117705, 0.07244068538830908, 0.049259666064050175, 0.013039323369895635, 0.3742768745062636, 0.063747803141712, 0.0033805653181210905, 0.42305360266772507, 0.9882138034918116, 0.9111001511925672, 0.08650849920414273, 0.996750385245922, 0.998296314207219, 0.9966058693389136, 0.20342245075440862, 0.30858801963498966, 0.46441729323176306, 0.023028956689178336, 0.2504039217598718, 0.5272928737058838, 0.21910343153988782, 0.9829161351933924, 0.013464604591690306, 0.9938924175491904, 0.11496274850254419, 0.6437913916142475, 0.13176499636060834, 0.10169781598301986, 0.0035373153385398213, 0.0035373153385398213, 0.9978336607873383, 0.9929358251590074, 0.9230473333678832, 0.07611334832868602, 0.8118271963355518, 0.07995267842698617, 0.029213478656014175, 0.07841512691877489, 0.9623617231796295, 0.01969026543590035, 0.014767699076925262, 0.9971627643160513, 0.8839655482039134, 0.11316467162996958, 0.9959950479896572, 0.9948206351522302, 0.28438006013039147, 0.017866810060548154, 0.698294493199757, 0.9922357086004825, 0.005422053052461653, 0.9971194375948128, 0.13650593844421718, 0.12753839504277226, 0.6018218016080815, 0.1335167573104022, 0.9970979751605308, 0.1756966534454701, 0.4648505554258379, 0.24571598396986413, 0.009724907017276943, 0.0006483271344851296, 0.08233754607961145, 0.020746468303524147, 0.9985911896702743, 0.995440085379852, 0.9973826977118552, 0.99304403057866, 0.9970658615834748, 0.9948699057888756, 0.9957684102252529, 0.1653358966360339, 0.379481974815346, 0.29698589333374903, 0.024061357098799113, 0.06393446314823764, 0.07012166925935742, 0.2779652072403678, 0.4790595053987754, 0.12114855271316913, 0.024598690906227235, 0.0965498618069419, 0.998786389990886, 0.038437388008093536, 0.002745527714863824, 0.9581891724874746, 0.02624331871588357, 0.9728773152531123, 0.003277123172478751, 0.02621698537983001, 0.9700284590537104, 0.8464241454945509, 0.15318376213045373, 0.010991854634227693, 0.9856029655357498, 0.4520418212644054, 0.032829852940990334, 0.2947799382953258, 0.05716526840773842, 0.163001367748973, 0.0002295793911957366, 0.6323977612834583, 0.05265159769148646, 0.236064306133258, 0.01793625855424264, 0.03471533913724382, 0.025457915367312133, 0.5276376085055453, 0.22601790095685298, 0.17404165892496345, 0.0012600301098639887, 0.03591085813112368, 0.03496583554872569, 0.9982597056254428, 0.07737789271775035, 0.9220373323084603, 0.27577860442757124, 0.021051801864700095, 0.223149099765821, 0.4799810825151622, 0.09821957364880199, 0.900930732100023, 0.1258266049495832, 0.8388440329972214, 0.035489555242190135, 0.9990451349319247, 0.998969791725329, 0.04146930836580433, 0.7049782422186736, 0.25258578731898995, 0.9946452283867173, 0.0005576067205493207, 0.009479314249338453, 0.46699562846005616, 0.04209930740147372, 0.0429357174822977, 0.43800007899149146, 0.9908987178018318, 0.9969693416033699, 0.001461831879183827, 0.9975987861269331, 0.9981959184823956, 0.004704161785719489, 0.05644994142863387, 0.9361281953581783, 0.996892488713991, 0.9954778617776386, 0.9964546574065734, 0.11884426937110121, 0.8800135184383923, 0.995692160232284, 0.9965527058699026, 0.2689932218332818, 0.1875957457229743, 0.4362395985286792, 0.10556235183055503, 0.0012718355642235544, 0.9993521915174833, 0.9964945998536946, 0.09693079965438475, 0.061928010890301366, 0.8400669303380012, 0.21720085353002674, 0.780185465879856, 0.9968551621896634, 0.9989706867573174, 0.9989081441756277, 0.9978241067759185, 0.0011551982898875966, 0.9984763885595128, 0.0007143202705667728, 0.984333332841013, 0.01500072568190223, 0.9977040190927227, 0.9964729925493372, 0.9965094234361769, 0.9939376145438928, 0.9948770484525112, 0.002786770443844569, 0.9960909876053803, 0.9996344079325125, 0.9994881058457986, 0.9867648263434355, 0.9992522484111828, 0.9994035284785941, 0.08729207760699045, 0.9092924750728172, 0.9955824808019342, 0.9960559426527534, 0.7881231370486937, 0.15167652826220143, 0.031723195453532325, 0.027757796021840787, 0.9982764732254721, 0.9976876580258605, 0.9981105935446317, 0.036028958154167894, 0.08591520790609267, 0.8757808289782348, 0.9893107025491515, 0.21988056654660668, 0.058129345178987976, 0.0025273628338690424, 0.720298407652677, 0.9997526645773184, 0.36720067439001886, 0.5374899871383901, 0.044064080926802265, 0.007803014330787901, 0.04360508008381474, 0.6177268176110812, 0.10186338789771537, 0.1592106422668662, 0.041897537438649, 0.00026185960899155627, 0.07908160191544998, 0.48551919423843715, 0.2150889967425274, 0.018827418813006376, 0.00114105568563675, 0.13407404306231813, 0.000570527842818375, 0.14491407207586726, 0.0005225740221981159, 0.812080030495872, 0.18708149994692547, 0.8028048096839153, 0.19653727705954774, 0.9962993800390066, 0.31075451965597445, 0.688578360101008, 0.998624583988924, 0.9978261486972966, 0.9941306686634512, 0.45297376685826685, 0.09663440359643026, 0.44617916035539285, 0.0030198251123884456, 0.9975644860511528, 0.9970770286297137, 0.9964811253709462, 0.5125862683230689, 0.053115076093839135, 0.039707386982772944, 0.20317805806769532, 0.14903162127300495, 0.037644665581070456, 0.004641123153830604, 0.9958666257892633, 0.02054274726402473, 0.056492554976068005, 0.30814120896037095, 0.562357706352677, 0.051356868160061825, 0.2198029393495515, 0.16639287932068852, 0.6142156903319242, 0.9982085522965567, 0.9988388293630314, 0.9977099173783488, 0.9968459332217849, 0.9974625331950151, 0.9963597518515699, 0.9490878342807292, 0.04935820832069171, 0.9959259790482254, 0.0066391012614344614, 0.11507775519819734, 0.6273950692055567, 0.04979325946075846, 0.20027955471993958, 0.9983405278258329, 0.996915041361837, 0.03708835609252416, 0.9623452396639163, 0.9986146959048642, 0.9953196917679844, 0.43998894372218394, 0.006534489263200751, 0.43519698492917, 0.0008712652350934335, 0.08886905397953021, 0.02831612014053659, 0.9960379090649152, 0.9945518735962291, 0.9944362531003837, 0.9975295893740567, 0.9974854816351242, 0.9956438524908834, 0.07480610751614673, 0.924075445787695, 0.9987427849243435, 0.9938526392110092, 0.9990593265956871, 0.9920638828166984, 0.3332984208248614, 0.6665968416497228, 0.18078169721613077, 0.8186992784755985, 0.0038421162753964067, 0.9951081153276694, 0.14652773754235757, 0.8508062179878827, 0.9993243515314514, 0.9892730933957818, 0.6148068218400188, 0.1636512383678374, 0.15176134012113277, 0.04458711842514238, 0.000660549902594702, 0.02444034639600397, 0.9943176411525724, 0.6393855344763805, 0.021848349921805964, 0.33864942378799245, 0.0026586886321499303, 0.9943495484240739, 0.15309159723572008, 0.04349193103287502, 0.8019912082462154, 0.5512209295920428, 0.1676467015986142, 0.171388020125257, 0.10226270639490387, 0.00748263705328565, 0.7005532302682265, 0.2940678432339229, 0.004798309796357716, 0.995830339207513, 0.994362019202383, 0.004131723208773408, 0.9936794317100046, 0.09759943304623227, 0.8920134229574251, 0.00907901702755649, 0.9979032790446284, 0.04026241413578749, 0.2613109623322678, 0.6876188767111941, 0.007105131906315439, 0.003947295503508578, 0.635586809405125, 0.13052927826739086, 0.11159157722380057, 0.010016635262725438, 0.08122865158366409, 0.011112204744586032, 0.019720250673490706, 0.3428265992205829, 0.07558381715099464, 0.4373063706593262, 0.021595376328855616, 0.12282370287036631, 0.9961255827537839, 0.5549010079536751, 0.2995313399334717, 0.040321526529505804, 0.02064078143772321, 0.01536058153504983, 0.00864032711346553, 0.0009600363459406144, 0.059522253448318095, 0.33347549517010266, 0.46746118519380464, 0.09825617268404811, 0.03692050125097565, 0.013100823024539748, 0.01250533106887885, 0.03751599320663655, 0.9986633644614372, 0.18821063168446045, 0.11809294537064186, 0.13839017035622092, 0.03690404542832558, 0.05535606814248837, 0.4649909723969023, 0.19946162056762506, 0.7992918563325845, 0.9979067580986616, 0.9974567415808067, 0.18403371079467373, 0.8152891273914579, 0.3434969757112519, 0.432207906375419, 0.12120388782604233, 0.0995419163847922, 0.0036103285735416863, 0.5149355843740643, 0.2269882617615596, 0.15898368131477655, 0.02726309756650311, 0.05789579146145042, 0.014091039191675763, 0.014111426767510716, 0.052295287432539715, 0.6200726938429709, 0.029883021390022694, 0.050635119577538454, 0.009130923202506934, 0.18344854797763932, 0.03984402852003026, 0.03293693703998189, 0.9661501531728022, 0.9917014552477883, 0.008197710867776624, 0.7185100351030966, 0.19316727074379733, 0.027079523936046356, 0.0018053015957364238, 0.05957495265930198, 0.07952209613481986, 0.061028585405791994, 0.8580988978268934, 0.9981377992195053, 0.05928354805351663, 0.9398912514317949, 0.9955101658835419, 0.9972390631031142, 0.9975387484913782, 0.9791459489740103, 0.01809881606236618, 0.009974704191023002, 0.16292016845337567, 0.8262379971564052, 0.017710888565675955, 0.980740454324306, 0.9940547519037466, 0.18363553217485082, 0.8152481906106435, 0.9983739564064193, 0.9939682543243992, 0.9974148562262138, 0.987137820884478, 0.010282685634213314, 0.9970296673083331, 0.9971517307225634, 0.9973832120645655, 0.9920852280737623, 0.7808178231054838, 0.02340113355960491, 0.14664710364019076, 0.049142380475170305, 0.8668653212177064, 0.13228838028508424, 0.9923242816713848, 0.9965220673688032, 0.9980154761290846, 0.9939940864980077, 0.0746825649951565, 0.9230765033401345, 0.26804788257150697, 0.13703571524723107, 0.5948253573918272, 0.996995975026692, 0.9933565318887865, 0.557664123299373, 0.09677223476565756, 0.0722967668288181, 0.0790745887190198, 0.19354446953131513, 0.3849695211154515, 0.14135599603457985, 0.06240716846207515, 0.02631627585750157, 0.1130346705879353, 0.0771944091820046, 0.041855410173359635, 0.09749553627207724, 0.05513886370143186, 0.9980447941821551, 0.9962522483243826, 0.9970582743184725, 0.9953811987025402, 0.9913691461478161, 0.9984222095888035, 0.9961981207987661, 0.9980021299700014, 0.9942268294846406, 0.9957180162885141, 0.993535029669345, 0.9965030454888864, 0.9924983807419833, 0.8673879010147921, 0.059410130206492606, 0.07129215624779113, 0.9963837285662647, 0.8172098472020951, 0.16987950871815982, 0.00894102677463999, 0.003576410709855996, 0.2733685907636913, 0.7259952738314425, 0.9932903647424316, 0.16137311118787143, 0.37066626129288854, 0.34861034934095725, 0.001110729378874238, 0.003649539387729639, 0.11440512602404651, 0.09713997241375516, 0.1545408652037014, 0.03532362633227461, 0.055929075026101456, 0.13393541650987453, 0.5224953061648951, 0.9893409181914236, 0.9987395756031213, 0.0011694842805657158, 0.9907420314703489, 0.9511962743494699, 0.009325453670092841, 0.037301814680371366, 0.9979330095658245, 0.9962416307970786, 0.9948225851896484, 0.984696999723037, 0.9962096831394488, 0.9974010543582145, 0.9984628238154362, 0.9921222426413272, 0.07170635666017638, 0.03522417520149015, 0.037740187715882306, 0.05157825654503915, 0.802607992091097, 0.059181915516961496, 0.09747609614558364, 0.010443867444169676, 0.8285468172374609, 0.0233739581057467, 0.9746940530096374, 0.997771721199754, 0.9915066151602074, 0.9911919065857612, 0.42911383556258625, 0.17059425311341123, 0.34118850622682245, 0.020069912130989558, 0.00430069545664062, 0.0009557101014756932, 0.033927708602387106, 0.8874509582819102, 0.11113871813997754, 0.9986403090593114, 0.10123733956521101, 0.8973309643280066, 0.9904672074569271, 0.00818567940047047, 0.16872033942065923, 0.14113084995564576, 0.595296291918175, 0.01591701315289238, 0.03820083156694171, 0.04138423419752019, 0.9965493067438024, 0.7050649758630236, 0.13660633907346084, 0.09316930038189955, 0.001888566899633099, 0.018256146696453292, 0.04469608329131668, 0.9926847911259906, 0.646131987257551, 0.03710620650917272, 0.07017912970213101, 0.03710620650917272, 0.20932740411152873, 0.9885620943091972, 0.017103798424376253, 0.9777671432601758, 0.0028506330707293755, 0.9977036600378961, 0.9958557922985537, 0.08103278346309127, 0.14971300847144303, 0.7530119634009214, 0.015317172483877008, 0.0004941023381895809, 0.9950451751052295, 0.0032411894954567735, 0.9983693826281866, 0.15980153152371182, 0.532671771745706, 0.0047000450448150535, 0.23186888887754264, 0.0705006756722258, 0.9948643404243113, 0.9956250010524506, 0.9951308870277736, 0.9965153152196242, 0.4136999115284493, 0.15653510165941326, 0.36003073381665046, 0.055346339515292546, 0.013976348362447611, 0.9979188807191105, 0.9954632249539006, 0.9930135325923725, 0.9955425197469686, 0.7042640796498123, 0.003155776309110436, 0.2924352713109004, 0.6767524532358122, 0.05877288227335278, 0.2095944698718831, 0.015557527660593384, 0.03889381915148346, 0.997723998082671, 0.9926195092525519, 0.9871978846857514, 0.011330822205862283, 0.8787303524261304, 0.12032407315378549, 0.987686619719996, 0.008702084755242256, 0.9905369494804628, 0.4993715417548129, 0.009377869328728881, 0.11136219827865546, 0.07736742196201327, 0.3024362858515064, 0.30147408615008814, 0.4654759890157361, 0.1653800701166198, 0.0196388833263486, 0.003445418127429579, 0.0006890836254859158, 0.04341226840561269, 0.7357959646463085, 0.2627842730879673, 0.9969315860275496, 0.18859874242820115, 0.7934153991807084, 0.017342413096846084, 0.9984909366695782, 0.03644567880874446, 0.446551599949566, 0.2764717655087585, 0.02135201384754726, 0.18885488109985768, 0.029819191752609105, 0.3473883432384525, 0.6498761523168329, 0.29161412201534154, 0.70619805451908, 0.2444817483938412, 0.24105283186657836, 0.47867674720589387, 0.016458799330861678, 0.019201932552671958, 0.9940429244088335, 0.9916835601756626, 0.9923937711261445, 0.995856647763376, 0.9986293696659615, 0.9989092317508657, 0.21667109932409537, 0.3489620345549787, 0.12514007386705178, 0.08938576704789412, 0.031463790000858735, 0.000715086136383153, 0.1873525677323861, 0.9961493136847447, 0.24978839516865756, 0.04073472290442723, 0.5456915709838365, 0.05764347580815174, 0.0007685796774420232, 0.09760961903513694, 0.007685796774420232, 0.2511508913246453, 0.10644805989918742, 0.1979268613750516, 0.4440879998919225, 0.9995746694293707, 0.12019835965940665, 0.15606907432216152, 0.10131903615269357, 0.4140864955805737, 0.18627599193290245, 0.012586215671142058, 0.009439661753356544, 0.9982768429293345, 0.9969419397145987, 0.9978677587263775, 0.9950771899914208, 0.9959590796407488, 0.9989066435171482, 0.9729829920584788, 0.022367425104792615, 0.018845453762902503, 0.5864933640757839, 0.39461238030804935, 0.12019016566926456, 0.8766812084111062, 0.9800415831551912, 0.01953571262103371, 0.9972402529181874, 0.4225865597274657, 0.21959013640288466, 0.3573179549528048, 0.04646354979962524, 0.9486308084090153, 0.9961263471444978, 0.7528622422686898, 0.13000456245361394, 0.06985319773627019, 0.04753898179273943, 0.006417521585506946, 0.6645700130769415, 0.047774882914329485, 0.055618520407726864, 0.016400332940739972, 0.20892598050594835, 0.0011566659398311416, 0.6639262494630753, 0.03701331007459653, 0.2972631465366034, 0.9959997913903389, 0.9981295869017685, 0.9915044616010376, 0.9954425384699284, 0.8511514252946739, 0.00641571426101513, 0.00641571426101513, 0.10692857101691884, 0.004277142840676753, 0.024593571333891333, 0.9910658425835609, 0.031180167949203596, 0.011548210351556887, 0.030025346914047908, 0.7032860104098144, 0.0023096420703113776, 0.22057081771473655, 0.6874879932348276, 0.1718719983087069, 0.0878217420825054, 0.0301718868504313, 0.022628915137823478, 0.3119405720572237, 0.015442602577090282, 0.6702089518457182, 0.9991571200254907, 0.997685397485975, 0.9971920338527221, 0.9942395287787584, 0.02326467688289026, 0.0295282437359761, 0.007158362117812387, 0.9395350279628759, 0.9978437765929044, 0.4262776988008675, 0.16439176462271898, 0.40709001649474574, 0.0020743440330942458, 0.6127633272391472, 0.16700685331096676, 0.18279659216945818, 0.03097218006857929, 0.00668027413243867, 0.48574892624517857, 0.16208254725840146, 0.33314197405726825, 0.017953759080930623, 0.31226516938564763, 0.32167814303685327, 0.2512854705147938, 0.04338153074033899, 0.07141582183197315, 0.48928515187129573, 0.25421554629834714, 0.13125606030634324, 0.03807914877607041, 0.02637885166610464, 0.014678554556138871, 0.00021273267472665032, 0.04595025774095647, 0.9970560365967912, 0.07266749316347262, 0.9228771631761024, 0.9844609129830134, 0.012409171172054792, 0.9955581084189427, 0.9959023394055257, 0.25667289804581006, 0.0648733698357542, 0.5824500378731844, 0.07262996840307263, 0.022564650377653633, 0.04810514761655726, 0.9491515664343798, 0.7398093305894055, 0.12771731326979635, 0.12024449174869124, 0.01086955857615288, 0.000679347411009555, 0.9931214728068178, 0.9990852731341846, 0.9982205113502907, 0.9970419411259911, 0.02855638022711814, 0.06853531254508353, 0.01903758681807876, 0.41597127197502093, 0.4664208770429296, 0.8322095909706403, 0.16765020798138125, 0.9944099815020823, 0.9930306422687967, 0.5019191227489551, 0.07466399139529364, 0.03481636256438221, 0.2465320470599318, 0.14168045806546287, 0.00020125065066116884, 0.5300291758691018, 0.15249725492860217, 0.07995984384530688, 0.09514209267669427, 0.13967668924876392, 0.0023616831515491485, 0.06520646270810004, 0.8770908513285613, 0.056256556061890235, 0.42206040305261505, 0.04988380919943549, 0.015182028886784714, 0.31838883436857085, 0.19346242524302806, 0.9981876738498345, 0.8325380243834203, 0.00868735329791395, 0.12596662281975227, 0.00868735329791395, 0.015926814379508908, 0.007239461081594958, 0.9939621386197725, 0.8548904946488779, 0.05216851443723467, 0.08077705461249239, 0.010097131826561549, 0.0016828553044269249, 0.9328225376640336, 0.04971154589432154, 0.01462104291009457, 0.6895611371352184, 0.08906966308698218, 0.08226797972397626, 0.07611407572887567, 0.04664011448918339, 0.010364469886485199, 0.006153903995100587, 0.9951556052940884, 0.9917993179404674, 0.04200447735036025, 0.04062728137165992, 0.688597989350168, 0.21897416061335345, 0.009640371850902354, 0.9967609236821183, 0.052714498125146315, 0.9460865189828891, 0.9943640602565867, 0.9965490208217099, 0.9938226638492168, 0.1811937428615615, 0.8163058312422925, 0.995199899337898, 0.9945351067391758, 0.5939546155875649, 0.17307286811823083, 0.11264039970504693, 0.042553039888573285, 0.07688154265582568, 0.000715177140984425, 0.11064120099083953, 0.8851296079267162, 0.0037294786850844788, 0.16243793490112274, 0.8356746771419207, 0.5279437284716132, 0.16624354712853995, 0.24785949146157313, 0.00843264369492594, 0.02017811169857278, 0.004818653539957679, 0.024093267699788395, 0.9971783758512526, 0.9596171871897495, 0.03936891024368203, 0.972733424970304, 0.020181191389425396, 0.004036238277885079, 0.9982110714633071, 0.0844739413876768, 0.24912653900772483, 0.025771710931833603, 0.6385657264220993, 0.07021048159046081, 0.9285336190338442, 0.32388350230177415, 0.6755028846349157, 0.9929619387689183, 0.017262286200767505, 0.9814842725579239, 0.9961320395880373, 0.38542062070042127, 0.5469454451433364, 0.06716873887725183, 0.5121858701033865, 0.062369497097460334, 0.06425948185798944, 0.046304626632962975, 0.3137374702478308, 0.08228930940746042, 0.017425971403932792, 0.6951026371124303, 0.0987471712889525, 0.10552393794603747, 0.1156353899810944, 0.11274450523156704, 0.7559663620014047, 0.01589986612240048, 0.615414381591161, 0.11887358225795067, 0.027282461501824742, 0.021436219751433727, 0.20227996456352917, 0.014810479100990575, 0.09337645913461615, 0.18064988172448615, 0.3326154916886654, 0.03600791561400231, 0.034787308305053076, 0.25083480198906694, 0.030515182723730768, 0.041500648504273846, 0.9989563406268173, 0.9962417846811428, 0.9964385357065721, 0.9954733317767673, 0.13827179237194295, 0.3409114880894456, 0.014303978521235479, 0.05816951265302428, 0.014303978521235479, 0.433410549193435, 0.23961259109909103, 0.4522332499992726, 0.0743461992145401, 0.002841256020937838, 0.12122692356001444, 0.02604484685859685, 0.08334350994750993, 0.9820448380849317, 0.017662676943973592], \"Term\": [\"00\", \"00\", \"00\", \"000\", \"000\", \"000\", \"000\", \"000\", \"01\", \"01\", \"02\", \"02\", \"02\", \"03\", \"03\", \"03\", \"04\", \"05\", \"05\", \"05\", \"06\", \"06\", \"07\", \"07\", \"0d\", \"0t\", \"10\", \"10\", \"10\", \"10\", \"10\", \"10\", \"10\", \"10\", \"10\", \"11\", \"11\", \"11\", \"11\", \"11\", \"11\", \"11\", \"12\", \"12\", \"12\", \"12\", \"12\", \"12\", \"12\", \"13\", \"13\", \"13\", \"13\", \"13\", \"13\", \"14\", \"14\", \"14\", \"14\", \"14\", \"14\", \"14\", \"145\", \"145\", \"145\", \"147\", \"15\", \"15\", \"15\", \"15\", \"15\", \"15\", \"15\", \"15\", \"16\", \"16\", \"16\", \"16\", \"16\", \"16\", \"16\", \"17\", \"17\", \"17\", \"17\", \"17\", \"17\", \"17\", \"17\", \"18\", \"18\", \"18\", \"18\", \"18\", \"18\", \"18\", \"19\", \"19\", \"19\", \"19\", \"19\", \"19\", \"1992\", \"1992\", \"1992\", \"1992\", \"1992\", \"1992\", \"1993\", \"1993\", \"1993\", \"1993\", \"1993\", \"1993\", \"1d9\", \"1t\", \"20\", \"20\", \"20\", \"20\", \"20\", \"20\", \"20\", \"20\", \"20\", \"21\", \"21\", \"21\", \"21\", \"21\", \"21\", \"21\", \"21\", \"22\", \"22\", \"22\", \"22\", \"22\", \"23\", \"23\", \"24\", \"24\", \"24\", \"24\", \"24\", \"24\", \"24\", \"25\", \"25\", \"25\", \"25\", \"25\", \"26\", \"26\", \"26\", \"26\", \"27\", \"27\", \"27\", \"28\", \"28\", \"28\", \"28\", \"28\", \"28\", \"2di\", \"2tm\", \"30\", \"30\", \"30\", \"30\", \"30\", \"30\", \"30\", \"30\", \"31\", \"31\", \"31\", \"31\", \"33\", \"33\", \"33\", \"33\", \"34\", \"34\", \"34\", \"34u\", \"38\", \"38\", \"38\", \"39\", \"39\", \"39\", \"3t\", \"40\", \"40\", \"40\", \"40\", \"40\", \"40\", \"40\", \"42\", \"42\", \"43\", \"43\", \"43\", \"50\", \"50\", \"50\", \"50\", \"50\", \"50\", \"50\", \"52\", \"54\", \"54\", \"55\", \"56\", \"617\", \"6ei\", \"75u\", \"7ey\", \"7u\", \"92\", \"92\", \"92\", \"92\", \"92\", \"93\", \"93\", \"93\", \"93\", \"93\", \"93\", \"9v\", \"__\", \"___\", \"____\", \"_____\", \"a86\", \"abc\", \"adl\", \"administration\", \"administration\", \"agency\", \"agents\", \"ah\", \"ah\", \"ah\", \"ah\", \"ah\", \"amendment\", \"amiga\", \"amp\", \"anonymous\", \"apple\", \"apple\", \"application\", \"application\", \"application\", \"apr\", \"apr\", \"april\", \"april\", \"april\", \"april\", \"arab\", \"arabs\", \"archive\", \"archive\", \"archive\", \"argument\", \"argument\", \"argument\", \"armenia\", \"armenian\", \"armenians\", \"astro\", \"astronomy\", \"astronomy\", \"astronomy\", \"atheism\", \"atheist\", \"atheists\", \"atmosphere\", \"atmosphere\", \"atmosphere\", \"att\", \"au\", \"available\", \"available\", \"available\", \"available\", \"available\", \"ax\", \"azerbaijan\", \"azerbaijani\", \"b8f\", \"backup\", \"ball\", \"ball\", \"baseball\", \"batf\", \"battery\", \"belief\", \"beliefs\", \"believe\", \"believe\", \"believe\", \"believe\", \"believe\", \"best\", \"best\", \"best\", \"best\", \"best\", \"best\", \"better\", \"better\", \"better\", \"better\", \"better\", \"better\", \"bhj\", \"bible\", \"bike\", \"bios\", \"bit\", \"bit\", \"bit\", \"bit\", \"bit\", \"bit\", \"bj\", \"blues\", \"bmw\", \"board\", \"board\", \"board\", \"board\", \"bos\", \"boston\", \"boston\", \"braves\", \"british\", \"bus\", \"bus\", \"buying\", \"bxn\", \"ca\", \"ca\", \"cable\", \"cache\", \"cancer\", \"car\", \"car\", \"card\", \"card\", \"cards\", \"carry\", \"carry\", \"carry\", \"catholic\", \"center\", \"center\", \"center\", \"center\", \"chi\", \"chicago\", \"chicago\", \"chicago\", \"children\", \"children\", \"children\", \"christ\", \"christian\", \"christian\", \"christianity\", \"christians\", \"church\", \"chz\", \"circuit\", \"circuit\", \"claim\", \"claim\", \"claimed\", \"clean\", \"clean\", \"client\", \"clients\", \"clinical\", \"clinton\", \"clipper\", \"clipper\", \"code\", \"code\", \"code\", \"color\", \"color\", \"color\", \"colors\", \"com\", \"com\", \"com\", \"com\", \"com\", \"com\", \"com\", \"comics\", \"comp\", \"comp\", \"compatible\", \"compound\", \"compression\", \"computer\", \"computer\", \"computer\", \"computer\", \"conference\", \"conference\", \"conference\", \"congress\", \"congress\", \"contrib\", \"control\", \"control\", \"control\", \"control\", \"control\", \"control\", \"controller\", \"cool\", \"copy\", \"copy\", \"couple\", \"couple\", \"couple\", \"couple\", \"court\", \"court\", \"court\", \"cpu\", \"crime\", \"crime\", \"criminals\", \"crypto\", \"cs\", \"cs\", \"cs\", \"cx\", \"cx\", \"d9\", \"data\", \"data\", \"data\", \"data\", \"database\", \"day\", \"day\", \"day\", \"day\", \"day\", \"day\", \"day\", \"db\", \"dealer\", \"decision\", \"dept\", \"desktop\", \"det\", \"detroit\", \"did\", \"did\", \"did\", \"did\", \"did\", \"did\", \"didn\", \"didn\", \"didn\", \"didn\", \"didn\", \"directory\", \"disease\", \"disease\", \"disease\", \"disk\", \"disk\", \"disks\", \"disks\", \"disks\", \"display\", \"display\", \"doctor\", \"doctor\", \"does\", \"does\", \"does\", \"does\", \"does\", \"does\", \"doesn\", \"doesn\", \"doesn\", \"doesn\", \"doesn\", \"doesn\", \"don\", \"don\", \"don\", \"don\", \"don\", \"don\", \"door\", \"dos\", \"dos\", \"dr\", \"dr\", \"dr\", \"dr\", \"drive\", \"drive\", \"driver\", \"driver\", \"driver\", \"drivers\", \"drives\", \"earth\", \"earth\", \"earth\", \"eastern\", \"edu\", \"edu\", \"edu\", \"edu\", \"edu\", \"edu\", \"ee\", \"encryption\", \"encryption\", \"enforcement\", \"engine\", \"entry\", \"entry\", \"entry\", \"escrow\", \"espn\", \"eternal\", \"evidence\", \"evidence\", \"evil\", \"extended\", \"fact\", \"fact\", \"fact\", \"fact\", \"fact\", \"faith\", \"fans\", \"faq\", \"faq\", \"faq\", \"fast\", \"fast\", \"faster\", \"father\", \"fbi\", \"federal\", \"file\", \"file\", \"files\", \"files\", \"files\", \"firearms\", \"fix\", \"floppy\", \"flyers\", \"format\", \"format\", \"formats\", \"ftp\", \"g9v\", \"ga\", \"game\", \"games\", \"gas\", \"gas\", \"gay\", \"genocide\", \"getting\", \"getting\", \"getting\", \"getting\", \"gif\", \"giz\", \"gk\", \"gm\", \"gm\", \"gm\", \"gmt\", \"goal\", \"goal\", \"goal\", \"goal\", \"god\", \"going\", \"going\", \"going\", \"going\", \"going\", \"good\", \"good\", \"good\", \"good\", \"good\", \"good\", \"got\", \"got\", \"got\", \"got\", \"got\", \"got\", \"got\", \"government\", \"government\", \"government\", \"graphics\", \"graphics\", \"greece\", \"greek\", \"greek\", \"gun\", \"guns\", \"happening\", \"hard\", \"hard\", \"hard\", \"hard\", \"hasn\", \"heat\", \"heaven\", \"help\", \"help\", \"help\", \"help\", \"help\", \"help\", \"help\", \"henrik\", \"history\", \"history\", \"history\", \"history\", \"history\", \"hit\", \"hit\", \"hit\", \"hiv\", \"hockey\", \"holy\", \"homosexual\", \"homosexuality\", \"hour\", \"house\", \"house\", \"hulk\", \"human\", \"human\", \"human\", \"human\", \"human\", \"ide\", \"illegal\", \"image\", \"image\", \"images\", \"infection\", \"information\", \"information\", \"information\", \"information\", \"information\", \"information\", \"insurance\", \"int\", \"ip\", \"isa\", \"islam\", \"islamic\", \"israel\", \"israel\", \"israeli\", \"istanbul\", \"jesus\", \"jets\", \"jewish\", \"jewish\", \"jews\", \"jews\", \"jobs\", \"jobs\", \"journal\", \"journal\", \"jpeg\", \"jupiter\", \"just\", \"just\", \"just\", \"just\", \"just\", \"just\", \"kent\", \"key\", \"key\", \"key\", \"keyboard\", \"keyboard\", \"killed\", \"killed\", \"killed\", \"know\", \"know\", \"know\", \"know\", \"know\", \"law\", \"law\", \"law\", \"lc\", \"leafs\", \"league\", \"league\", \"legal\", \"legal\", \"legal\", \"lib\", \"life\", \"life\", \"life\", \"life\", \"life\", \"like\", \"like\", \"like\", \"like\", \"like\", \"like\", \"like\", \"list\", \"list\", \"list\", \"list\", \"list\", \"lk\", \"ll\", \"ll\", \"ll\", \"ll\", \"ll\", \"ll\", \"ll\", \"ll\", \"long\", \"long\", \"long\", \"long\", \"long\", \"long\", \"long\", \"lord\", \"lost\", \"lost\", \"lost\", \"lost\", \"lost\", \"lost\", \"love\", \"love\", \"lunar\", \"m3\", \"mac\", \"mac\", \"mail\", \"mail\", \"mail\", \"mail\", \"mail\", \"make\", \"make\", \"make\", \"make\", \"make\", \"make\", \"man\", \"man\", \"man\", \"man\", \"man\", \"man\", \"man\", \"man\", \"mars\", \"mars\", \"max\", \"max\", \"maybe\", \"maybe\", \"maybe\", \"maybe\", \"maybe\", \"medical\", \"medical\", \"medical\", \"meg\", \"memory\", \"memory\", \"menu\", \"mhz\", \"mission\", \"mit\", \"mit\", \"mode\", \"mode\", \"mode\", \"modem\", \"modem\", \"mon\", \"money\", \"money\", \"monitor\", \"montreal\", \"moral\", \"morning\", \"morning\", \"morris\", \"motherboard\", \"motif\", \"motor\", \"mr\", \"mr\", \"mr\", \"mr\", \"ms\", \"ms\", \"msg\", \"muslim\", \"muslims\", \"mw\", \"myers\", \"myers\", \"nasa\", \"nasa\", \"nasa\", \"nazi\", \"nec\", \"need\", \"need\", \"need\", \"need\", \"need\", \"new\", \"new\", \"new\", \"new\", \"new\", \"new\", \"new\", \"new\", \"new\", \"nhl\", \"noise\", \"nuclear\", \"nyi\", \"nyr\", \"oil\", \"opened\", \"openwindows\", \"ottoman\", \"oz\", \"packages\", \"paid\", \"palestinian\", \"parts\", \"parts\", \"parts\", \"patients\", \"pay\", \"pay\", \"pay\", \"pay\", \"pc\", \"pc\", \"pens\", \"people\", \"people\", \"people\", \"people\", \"people\", \"people\", \"period\", \"period\", \"period\", \"period\", \"period\", \"period\", \"phigs\", \"phone\", \"phone\", \"phones\", \"picture\", \"picture\", \"picture\", \"pin\", \"pit\", \"pitcher\", \"pitchers\", \"pitching\", \"pittsburgh\", \"pl\", \"planetary\", \"play\", \"play\", \"play\", \"play\", \"play\", \"played\", \"played\", \"played\", \"played\", \"player\", \"player\", \"players\", \"playoff\", \"playoffs\", \"point\", \"point\", \"point\", \"point\", \"point\", \"point\", \"point\", \"police\", \"police\", \"population\", \"port\", \"port\", \"president\", \"president\", \"price\", \"price\", \"price\", \"price\", \"price\", \"price\", \"printer\", \"probably\", \"probably\", \"probably\", \"probably\", \"probably\", \"probably\", \"probes\", \"problem\", \"problem\", \"problem\", \"problem\", \"problem\", \"proceedings\", \"processing\", \"processing\", \"processing\", \"processor\", \"professor\", \"program\", \"program\", \"program\", \"program\", \"program\", \"protect\", \"protect\", \"pub\", \"public\", \"public\", \"public\", \"public\", \"public\", \"puck\", \"purchased\", \"qq\", \"que\", \"question\", \"question\", \"question\", \"question\", \"question\", \"ram\", \"random\", \"rangers\", \"rd\", \"read\", \"read\", \"read\", \"really\", \"really\", \"really\", \"really\", \"really\", \"rear\", \"relatively\", \"religion\", \"religion\", \"religious\", \"religious\", \"remove\", \"remove\", \"replacement\", \"research\", \"research\", \"research\", \"research\", \"research\", \"right\", \"right\", \"right\", \"right\", \"right\", \"right\", \"right\", \"rights\", \"rights\", \"rsa\", \"russian\", \"russian\", \"russian\", \"safety\", \"said\", \"said\", \"said\", \"said\", \"said\", \"said\", \"san\", \"san\", \"satellite\", \"satellite\", \"say\", \"say\", \"say\", \"say\", \"say\", \"scheme\", \"scored\", \"scoring\", \"scripture\", \"scsi\", \"season\", \"second\", \"second\", \"second\", \"second\", \"second\", \"second\", \"second\", \"selection\", \"send\", \"send\", \"send\", \"send\", \"send\", \"send\", \"send\", \"series\", \"series\", \"series\", \"series\", \"server\", \"set\", \"set\", \"set\", \"set\", \"set\", \"set\", \"set\", \"sex\", \"sexual\", \"shareware\", \"shift\", \"simms\", \"sin\", \"sl\", \"sl\", \"software\", \"software\", \"software\", \"solar\", \"solar\", \"soldiers\", \"soldiers\", \"soviet\", \"space\", \"space\", \"space\", \"spacecraft\", \"spacecraft\", \"spirit\", \"start\", \"start\", \"start\", \"start\", \"state\", \"state\", \"state\", \"state\", \"state\", \"state\", \"states\", \"states\", \"states\", \"states\", \"stats\", \"stephanopoulos\", \"stl\", \"string\", \"stuff\", \"stuff\", \"stuff\", \"stuff\", \"stuff\", \"stuff\", \"su\", \"sun\", \"sun\", \"sun\", \"sun\", \"sun\", \"sun\", \"sure\", \"sure\", \"sure\", \"sure\", \"sure\", \"surface\", \"surface\", \"surface\", \"tape\", \"tar\", \"tax\", \"tcp\", \"team\", \"team\", \"team\", \"team\", \"teams\", \"thanks\", \"thanks\", \"thanks\", \"thanks\", \"thing\", \"thing\", \"thing\", \"thing\", \"thing\", \"things\", \"things\", \"things\", \"things\", \"think\", \"think\", \"think\", \"think\", \"think\", \"time\", \"time\", \"time\", \"time\", \"time\", \"time\", \"time\", \"time\", \"tor\", \"toronto\", \"toronto\", \"traffic\", \"traffic\", \"treatment\", \"troops\", \"true\", \"true\", \"true\", \"true\", \"true\", \"truth\", \"truth\", \"try\", \"try\", \"try\", \"try\", \"try\", \"turbo\", \"turkey\", \"turkish\", \"turks\", \"university\", \"university\", \"university\", \"university\", \"university\", \"unix\", \"unix\", \"upgrade\", \"usage\", \"use\", \"use\", \"use\", \"use\", \"use\", \"use\", \"used\", \"used\", \"used\", \"used\", \"used\", \"used\", \"user\", \"user\", \"user\", \"using\", \"using\", \"using\", \"using\", \"using\", \"usr\", \"usually\", \"usually\", \"usually\", \"usually\", \"usually\", \"usually\", \"utility\", \"value\", \"value\", \"value\", \"value\", \"value\", \"values\", \"values\", \"values\", \"ve\", \"ve\", \"ve\", \"ve\", \"ve\", \"ve\", \"ve\", \"vehicle\", \"venus\", \"version\", \"version\", \"version\", \"version\", \"version\", \"vga\", \"video\", \"video\", \"village\", \"villages\", \"vitamin\", \"vs\", \"vs\", \"w7\", \"wall\", \"want\", \"want\", \"want\", \"want\", \"want\", \"want\", \"war\", \"war\", \"war\", \"water\", \"water\", \"way\", \"way\", \"way\", \"way\", \"way\", \"way\", \"way\", \"weapon\", \"weapons\", \"weapons\", \"weight\", \"weight\", \"weight\", \"widget\", \"win\", \"win\", \"win\", \"win\", \"window\", \"window\", \"windows\", \"windows\", \"wires\", \"wm\", \"wm\", \"wolverine\", \"women\", \"women\", \"women\", \"won\", \"won\", \"won\", \"won\", \"won\", \"word\", \"word\", \"word\", \"word\", \"word\", \"words\", \"words\", \"words\", \"words\", \"work\", \"work\", \"work\", \"work\", \"work\", \"work\", \"world\", \"world\", \"world\", \"world\", \"world\", \"world\", \"world\", \"world\", \"x11\", \"x11r5\", \"xfree86\", \"xterm\", \"year\", \"year\", \"year\", \"year\", \"year\", \"year\", \"years\", \"years\", \"years\", \"years\", \"years\", \"years\", \"years\", \"zip\", \"zip\"]}, \"R\": 30, \"lambda.step\": 0.01, \"plot.opts\": {\"xlab\": \"PC1\", \"ylab\": \"PC2\"}, \"topic.order\": [2, 10, 1, 5, 8, 9, 7, 6, 3, 4]};\n",
              "\n",
              "function LDAvis_load_lib(url, callback){\n",
              "  var s = document.createElement('script');\n",
              "  s.src = url;\n",
              "  s.async = true;\n",
              "  s.onreadystatechange = s.onload = callback;\n",
              "  s.onerror = function(){console.warn(\"failed to load library \" + url);};\n",
              "  document.getElementsByTagName(\"head\")[0].appendChild(s);\n",
              "}\n",
              "\n",
              "if(typeof(LDAvis) !== \"undefined\"){\n",
              "   // already loaded: just create the visualization\n",
              "   !function(LDAvis){\n",
              "       new LDAvis(\"#\" + \"ldavis_el2641360777496672001733862925\", ldavis_el2641360777496672001733862925_data);\n",
              "   }(LDAvis);\n",
              "}else if(typeof define === \"function\" && define.amd){\n",
              "   // require.js is available: use it to load d3/LDAvis\n",
              "   require.config({paths: {d3: \"https://d3js.org/d3.v5\"}});\n",
              "   require([\"d3\"], function(d3){\n",
              "      window.d3 = d3;\n",
              "      LDAvis_load_lib(\"https://cdn.jsdelivr.net/gh/bmabey/pyLDAvis@3.4.0/pyLDAvis/js/ldavis.v3.0.0.js\", function(){\n",
              "        new LDAvis(\"#\" + \"ldavis_el2641360777496672001733862925\", ldavis_el2641360777496672001733862925_data);\n",
              "      });\n",
              "    });\n",
              "}else{\n",
              "    // require.js not available: dynamically load d3 & LDAvis\n",
              "    LDAvis_load_lib(\"https://d3js.org/d3.v5.js\", function(){\n",
              "         LDAvis_load_lib(\"https://cdn.jsdelivr.net/gh/bmabey/pyLDAvis@3.4.0/pyLDAvis/js/ldavis.v3.0.0.js\", function(){\n",
              "                 new LDAvis(\"#\" + \"ldavis_el2641360777496672001733862925\", ldavis_el2641360777496672001733862925_data);\n",
              "            })\n",
              "         });\n",
              "}\n",
              "</script>"
            ]
          },
          "metadata": {},
          "execution_count": 42
        }
      ]
    },
    {
      "cell_type": "code",
      "source": [
        "!pip install pyLDAvis.sklearn\n",
        "# error"
      ],
      "metadata": {
        "id": "gPbXPsyPfK_x"
      },
      "execution_count": null,
      "outputs": []
    },
    {
      "cell_type": "code",
      "source": [
        "!pip install gensim pyLDAvis guidedlda bertopic top2vec"
      ],
      "metadata": {
        "id": "t-3f1kxSfLDU"
      },
      "execution_count": null,
      "outputs": []
    },
    {
      "cell_type": "code",
      "source": [],
      "metadata": {
        "id": "KPFJHNr9htZf"
      },
      "execution_count": null,
      "outputs": []
    }
  ]
}